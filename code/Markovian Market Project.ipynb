{
 "cells": [
  {
   "cell_type": "markdown",
   "id": "8b848094-060d-4545-9639-e99cd806ff11",
   "metadata": {},
   "source": [
    "### Markovian Market Project"
   ]
  },
  {
   "cell_type": "markdown",
   "id": "ce378e54-fd80-4f2b-97cb-4ff4f5db9137",
   "metadata": {},
   "source": [
    "\"Today is a window, tomorrow the landscape\" (G.Graffin, 1994)"
   ]
  },
  {
   "cell_type": "code",
   "execution_count": 3,
   "id": "0ac07ebf-8fe5-4f6d-b4e9-2a8019140ab2",
   "metadata": {},
   "outputs": [],
   "source": [
    "import pandas as pd\n",
    "import numpy as np\n",
    "import matplotlib.pyplot as plt\n",
    "import seaborn as sns\n",
    "import random\n",
    "from faker import Faker\n",
    "\n",
    "from datetime import datetime, timedelta"
   ]
  },
  {
   "cell_type": "code",
   "execution_count": 4,
   "id": "f0009890-1e23-40ac-be32-77bb535328ae",
   "metadata": {},
   "outputs": [],
   "source": [
    "dfm = pd.read_csv('../data/monday.csv',delimiter=';')\n",
    "dft = pd.read_csv('../data/tuesday.csv',delimiter=';')\n",
    "dfw = pd.read_csv('../data/wednesday.csv',delimiter=';')\n",
    "dfth = pd.read_csv('../data/thursday.csv',delimiter=';')\n",
    "dff = pd.read_csv('../data/friday.csv',delimiter=';')"
   ]
  },
  {
   "cell_type": "code",
   "execution_count": 5,
   "id": "65899a00-30d3-494c-b879-8bdb91025b1d",
   "metadata": {
    "tags": []
   },
   "outputs": [
    {
     "data": {
      "text/html": [
       "<div>\n",
       "<style scoped>\n",
       "    .dataframe tbody tr th:only-of-type {\n",
       "        vertical-align: middle;\n",
       "    }\n",
       "\n",
       "    .dataframe tbody tr th {\n",
       "        vertical-align: top;\n",
       "    }\n",
       "\n",
       "    .dataframe thead th {\n",
       "        text-align: right;\n",
       "    }\n",
       "</style>\n",
       "<table border=\"1\" class=\"dataframe\">\n",
       "  <thead>\n",
       "    <tr style=\"text-align: right;\">\n",
       "      <th></th>\n",
       "      <th>timestamp</th>\n",
       "      <th>customer_no</th>\n",
       "      <th>location</th>\n",
       "    </tr>\n",
       "  </thead>\n",
       "  <tbody>\n",
       "    <tr>\n",
       "      <th>0</th>\n",
       "      <td>2019-09-02 07:03:00</td>\n",
       "      <td>1</td>\n",
       "      <td>dairy</td>\n",
       "    </tr>\n",
       "    <tr>\n",
       "      <th>1</th>\n",
       "      <td>2019-09-02 07:03:00</td>\n",
       "      <td>2</td>\n",
       "      <td>dairy</td>\n",
       "    </tr>\n",
       "    <tr>\n",
       "      <th>2</th>\n",
       "      <td>2019-09-02 07:04:00</td>\n",
       "      <td>3</td>\n",
       "      <td>dairy</td>\n",
       "    </tr>\n",
       "    <tr>\n",
       "      <th>3</th>\n",
       "      <td>2019-09-02 07:04:00</td>\n",
       "      <td>4</td>\n",
       "      <td>dairy</td>\n",
       "    </tr>\n",
       "    <tr>\n",
       "      <th>4</th>\n",
       "      <td>2019-09-02 07:04:00</td>\n",
       "      <td>5</td>\n",
       "      <td>spices</td>\n",
       "    </tr>\n",
       "  </tbody>\n",
       "</table>\n",
       "</div>"
      ],
      "text/plain": [
       "             timestamp  customer_no location\n",
       "0  2019-09-02 07:03:00            1    dairy\n",
       "1  2019-09-02 07:03:00            2    dairy\n",
       "2  2019-09-02 07:04:00            3    dairy\n",
       "3  2019-09-02 07:04:00            4    dairy\n",
       "4  2019-09-02 07:04:00            5   spices"
      ]
     },
     "execution_count": 5,
     "metadata": {},
     "output_type": "execute_result"
    }
   ],
   "source": [
    "dfm.head(5)"
   ]
  },
  {
   "cell_type": "code",
   "execution_count": 6,
   "id": "10e257b2-6d07-4641-8a90-8463fb77355d",
   "metadata": {},
   "outputs": [
    {
     "data": {
      "text/html": [
       "<div>\n",
       "<style scoped>\n",
       "    .dataframe tbody tr th:only-of-type {\n",
       "        vertical-align: middle;\n",
       "    }\n",
       "\n",
       "    .dataframe tbody tr th {\n",
       "        vertical-align: top;\n",
       "    }\n",
       "\n",
       "    .dataframe thead th {\n",
       "        text-align: right;\n",
       "    }\n",
       "</style>\n",
       "<table border=\"1\" class=\"dataframe\">\n",
       "  <thead>\n",
       "    <tr style=\"text-align: right;\">\n",
       "      <th></th>\n",
       "      <th>customer_no</th>\n",
       "    </tr>\n",
       "  </thead>\n",
       "  <tbody>\n",
       "    <tr>\n",
       "      <th>count</th>\n",
       "      <td>4884.000000</td>\n",
       "    </tr>\n",
       "    <tr>\n",
       "      <th>mean</th>\n",
       "      <td>718.274365</td>\n",
       "    </tr>\n",
       "    <tr>\n",
       "      <th>std</th>\n",
       "      <td>411.839636</td>\n",
       "    </tr>\n",
       "    <tr>\n",
       "      <th>min</th>\n",
       "      <td>1.000000</td>\n",
       "    </tr>\n",
       "    <tr>\n",
       "      <th>25%</th>\n",
       "      <td>366.000000</td>\n",
       "    </tr>\n",
       "    <tr>\n",
       "      <th>50%</th>\n",
       "      <td>720.000000</td>\n",
       "    </tr>\n",
       "    <tr>\n",
       "      <th>75%</th>\n",
       "      <td>1070.000000</td>\n",
       "    </tr>\n",
       "    <tr>\n",
       "      <th>max</th>\n",
       "      <td>1447.000000</td>\n",
       "    </tr>\n",
       "  </tbody>\n",
       "</table>\n",
       "</div>"
      ],
      "text/plain": [
       "       customer_no\n",
       "count  4884.000000\n",
       "mean    718.274365\n",
       "std     411.839636\n",
       "min       1.000000\n",
       "25%     366.000000\n",
       "50%     720.000000\n",
       "75%    1070.000000\n",
       "max    1447.000000"
      ]
     },
     "execution_count": 6,
     "metadata": {},
     "output_type": "execute_result"
    }
   ],
   "source": [
    "dfm.describe()"
   ]
  },
  {
   "cell_type": "code",
   "execution_count": 7,
   "id": "d6127ce2-ae0b-4c62-8a28-b499f42d2778",
   "metadata": {},
   "outputs": [
    {
     "name": "stdout",
     "output_type": "stream",
     "text": [
      "<class 'pandas.core.frame.DataFrame'>\n",
      "RangeIndex: 4884 entries, 0 to 4883\n",
      "Data columns (total 3 columns):\n",
      " #   Column       Non-Null Count  Dtype \n",
      "---  ------       --------------  ----- \n",
      " 0   timestamp    4884 non-null   object\n",
      " 1   customer_no  4884 non-null   int64 \n",
      " 2   location     4884 non-null   object\n",
      "dtypes: int64(1), object(2)\n",
      "memory usage: 114.6+ KB\n"
     ]
    }
   ],
   "source": [
    "dfm.info()"
   ]
  },
  {
   "cell_type": "code",
   "execution_count": 8,
   "id": "15c5f210-e7fd-463a-b991-708605a527cc",
   "metadata": {},
   "outputs": [
    {
     "data": {
      "text/plain": [
       "Index(['timestamp', 'customer_no', 'location'], dtype='object')"
      ]
     },
     "execution_count": 8,
     "metadata": {},
     "output_type": "execute_result"
    }
   ],
   "source": [
    "dfm.columns"
   ]
  },
  {
   "cell_type": "code",
   "execution_count": 9,
   "id": "9c38a18b-3138-4b9f-a36f-f9845d6d5f7c",
   "metadata": {},
   "outputs": [
    {
     "data": {
      "text/plain": [
       "RangeIndex(start=0, stop=4884, step=1)"
      ]
     },
     "execution_count": 9,
     "metadata": {},
     "output_type": "execute_result"
    }
   ],
   "source": [
    "dfm.index"
   ]
  },
  {
   "cell_type": "code",
   "execution_count": 10,
   "id": "25d20be0-5d83-44ed-8ebd-5fc24d478c3d",
   "metadata": {},
   "outputs": [
    {
     "data": {
      "text/plain": [
       "(4884, 3)"
      ]
     },
     "execution_count": 10,
     "metadata": {},
     "output_type": "execute_result"
    }
   ],
   "source": [
    "dfm.shape"
   ]
  },
  {
   "cell_type": "code",
   "execution_count": 11,
   "id": "3fbce786-19d0-46e9-ad2d-98bfe1de3004",
   "metadata": {
    "tags": []
   },
   "outputs": [
    {
     "data": {
      "text/plain": [
       "1447"
      ]
     },
     "execution_count": 11,
     "metadata": {},
     "output_type": "execute_result"
    }
   ],
   "source": [
    "n_m = dfm['customer_no'].nunique()\n",
    "n_m"
   ]
  },
  {
   "cell_type": "code",
   "execution_count": 12,
   "id": "bfcf85d3-d6a7-45c3-ace1-526bdf3a78b6",
   "metadata": {},
   "outputs": [
    {
     "data": {
      "text/plain": [
       "RangeIndex(start=0, stop=4884, step=1)"
      ]
     },
     "execution_count": 12,
     "metadata": {},
     "output_type": "execute_result"
    }
   ],
   "source": [
    "dfm.index"
   ]
  },
  {
   "cell_type": "markdown",
   "id": "0bebc72b-8859-481f-a944-49bee2af67ce",
   "metadata": {},
   "source": [
    "Resample:"
   ]
  },
  {
   "cell_type": "code",
   "execution_count": 13,
   "id": "0e79b0b1-e8a6-48f4-898f-0e32ff70212c",
   "metadata": {},
   "outputs": [],
   "source": [
    "dfm.set_index('timestamp', inplace=True)"
   ]
  },
  {
   "cell_type": "code",
   "execution_count": 14,
   "id": "0f8b9808-bb62-4fc2-85d9-fa9fc0275760",
   "metadata": {},
   "outputs": [
    {
     "data": {
      "text/plain": [
       "Index(['2019-09-02 07:03:00', '2019-09-02 07:03:00', '2019-09-02 07:04:00',\n",
       "       '2019-09-02 07:04:00', '2019-09-02 07:04:00', '2019-09-02 07:04:00',\n",
       "       '2019-09-02 07:04:00', '2019-09-02 07:04:00', '2019-09-02 07:05:00',\n",
       "       '2019-09-02 07:05:00',\n",
       "       ...\n",
       "       '2019-09-02 21:48:00', '2019-09-02 21:49:00', '2019-09-02 21:49:00',\n",
       "       '2019-09-02 21:49:00', '2019-09-02 21:49:00', '2019-09-02 21:49:00',\n",
       "       '2019-09-02 21:49:00', '2019-09-02 21:49:00', '2019-09-02 21:50:00',\n",
       "       '2019-09-02 21:50:00'],\n",
       "      dtype='object', name='timestamp', length=4884)"
      ]
     },
     "execution_count": 14,
     "metadata": {},
     "output_type": "execute_result"
    }
   ],
   "source": [
    "dfm.index"
   ]
  },
  {
   "cell_type": "code",
   "execution_count": 15,
   "id": "fa085480-32af-493e-af1d-976e970c977f",
   "metadata": {},
   "outputs": [],
   "source": [
    "dfm.index = pd.to_datetime(dfm.index)"
   ]
  },
  {
   "cell_type": "code",
   "execution_count": 16,
   "id": "bc7e23bb-6fff-436c-8226-f72ca9944ae2",
   "metadata": {},
   "outputs": [
    {
     "data": {
      "text/plain": [
       "DatetimeIndex(['2019-09-02 07:03:00', '2019-09-02 07:03:00',\n",
       "               '2019-09-02 07:04:00', '2019-09-02 07:04:00',\n",
       "               '2019-09-02 07:04:00', '2019-09-02 07:04:00',\n",
       "               '2019-09-02 07:04:00', '2019-09-02 07:04:00',\n",
       "               '2019-09-02 07:05:00', '2019-09-02 07:05:00',\n",
       "               ...\n",
       "               '2019-09-02 21:48:00', '2019-09-02 21:49:00',\n",
       "               '2019-09-02 21:49:00', '2019-09-02 21:49:00',\n",
       "               '2019-09-02 21:49:00', '2019-09-02 21:49:00',\n",
       "               '2019-09-02 21:49:00', '2019-09-02 21:49:00',\n",
       "               '2019-09-02 21:50:00', '2019-09-02 21:50:00'],\n",
       "              dtype='datetime64[ns]', name='timestamp', length=4884, freq=None)"
      ]
     },
     "execution_count": 16,
     "metadata": {},
     "output_type": "execute_result"
    }
   ],
   "source": [
    "dfm.index"
   ]
  },
  {
   "cell_type": "code",
   "execution_count": 17,
   "id": "289f6349-fb9c-4c9f-974b-b9d81bfe16f9",
   "metadata": {},
   "outputs": [
    {
     "data": {
      "text/html": [
       "<div>\n",
       "<style scoped>\n",
       "    .dataframe tbody tr th:only-of-type {\n",
       "        vertical-align: middle;\n",
       "    }\n",
       "\n",
       "    .dataframe tbody tr th {\n",
       "        vertical-align: top;\n",
       "    }\n",
       "\n",
       "    .dataframe thead th {\n",
       "        text-align: right;\n",
       "    }\n",
       "</style>\n",
       "<table border=\"1\" class=\"dataframe\">\n",
       "  <thead>\n",
       "    <tr style=\"text-align: right;\">\n",
       "      <th></th>\n",
       "      <th></th>\n",
       "      <th>customer_no</th>\n",
       "      <th>location</th>\n",
       "    </tr>\n",
       "    <tr>\n",
       "      <th>customer_no</th>\n",
       "      <th>timestamp</th>\n",
       "      <th></th>\n",
       "      <th></th>\n",
       "    </tr>\n",
       "  </thead>\n",
       "  <tbody>\n",
       "    <tr>\n",
       "      <th rowspan=\"3\" valign=\"top\">1</th>\n",
       "      <th>2019-09-02 07:03:00</th>\n",
       "      <td>1</td>\n",
       "      <td>dairy</td>\n",
       "    </tr>\n",
       "    <tr>\n",
       "      <th>2019-09-02 07:04:00</th>\n",
       "      <td>1</td>\n",
       "      <td>dairy</td>\n",
       "    </tr>\n",
       "    <tr>\n",
       "      <th>2019-09-02 07:05:00</th>\n",
       "      <td>1</td>\n",
       "      <td>checkout</td>\n",
       "    </tr>\n",
       "    <tr>\n",
       "      <th rowspan=\"2\" valign=\"top\">2</th>\n",
       "      <th>2019-09-02 07:03:00</th>\n",
       "      <td>2</td>\n",
       "      <td>dairy</td>\n",
       "    </tr>\n",
       "    <tr>\n",
       "      <th>2019-09-02 07:04:00</th>\n",
       "      <td>2</td>\n",
       "      <td>dairy</td>\n",
       "    </tr>\n",
       "    <tr>\n",
       "      <th>...</th>\n",
       "      <th>...</th>\n",
       "      <td>...</td>\n",
       "      <td>...</td>\n",
       "    </tr>\n",
       "    <tr>\n",
       "      <th rowspan=\"2\" valign=\"top\">1444</th>\n",
       "      <th>2019-09-02 21:48:00</th>\n",
       "      <td>1444</td>\n",
       "      <td>spices</td>\n",
       "    </tr>\n",
       "    <tr>\n",
       "      <th>2019-09-02 21:49:00</th>\n",
       "      <td>1444</td>\n",
       "      <td>checkout</td>\n",
       "    </tr>\n",
       "    <tr>\n",
       "      <th>1445</th>\n",
       "      <th>2019-09-02 21:49:00</th>\n",
       "      <td>1445</td>\n",
       "      <td>dairy</td>\n",
       "    </tr>\n",
       "    <tr>\n",
       "      <th>1446</th>\n",
       "      <th>2019-09-02 21:50:00</th>\n",
       "      <td>1446</td>\n",
       "      <td>dairy</td>\n",
       "    </tr>\n",
       "    <tr>\n",
       "      <th>1447</th>\n",
       "      <th>2019-09-02 21:50:00</th>\n",
       "      <td>1447</td>\n",
       "      <td>fruit</td>\n",
       "    </tr>\n",
       "  </tbody>\n",
       "</table>\n",
       "<p>10765 rows × 2 columns</p>\n",
       "</div>"
      ],
      "text/plain": [
       "                                 customer_no  location\n",
       "customer_no timestamp                                 \n",
       "1           2019-09-02 07:03:00            1     dairy\n",
       "            2019-09-02 07:04:00            1     dairy\n",
       "            2019-09-02 07:05:00            1  checkout\n",
       "2           2019-09-02 07:03:00            2     dairy\n",
       "            2019-09-02 07:04:00            2     dairy\n",
       "...                                      ...       ...\n",
       "1444        2019-09-02 21:48:00         1444    spices\n",
       "            2019-09-02 21:49:00         1444  checkout\n",
       "1445        2019-09-02 21:49:00         1445     dairy\n",
       "1446        2019-09-02 21:50:00         1446     dairy\n",
       "1447        2019-09-02 21:50:00         1447     fruit\n",
       "\n",
       "[10765 rows x 2 columns]"
      ]
     },
     "execution_count": 17,
     "metadata": {},
     "output_type": "execute_result"
    }
   ],
   "source": [
    "dfm_res = dfm.groupby(['customer_no']).resample('min').ffill()\n",
    "dfm_res"
   ]
  },
  {
   "cell_type": "markdown",
   "id": "4ea2fffd-43dc-47c9-ae54-541fa4a91d03",
   "metadata": {},
   "source": [
    "Number of distinct customer in each section:"
   ]
  },
  {
   "cell_type": "code",
   "execution_count": 18,
   "id": "9f138d92-78eb-492e-b8e9-355a5b18ed9d",
   "metadata": {},
   "outputs": [
    {
     "data": {
      "text/html": [
       "<div>\n",
       "<style scoped>\n",
       "    .dataframe tbody tr th:only-of-type {\n",
       "        vertical-align: middle;\n",
       "    }\n",
       "\n",
       "    .dataframe tbody tr th {\n",
       "        vertical-align: top;\n",
       "    }\n",
       "\n",
       "    .dataframe thead th {\n",
       "        text-align: right;\n",
       "    }\n",
       "</style>\n",
       "<table border=\"1\" class=\"dataframe\">\n",
       "  <thead>\n",
       "    <tr style=\"text-align: right;\">\n",
       "      <th></th>\n",
       "      <th>customer_no</th>\n",
       "    </tr>\n",
       "    <tr>\n",
       "      <th>location</th>\n",
       "      <th></th>\n",
       "    </tr>\n",
       "  </thead>\n",
       "  <tbody>\n",
       "    <tr>\n",
       "      <th>checkout</th>\n",
       "      <td>1437</td>\n",
       "    </tr>\n",
       "    <tr>\n",
       "      <th>dairy</th>\n",
       "      <td>895</td>\n",
       "    </tr>\n",
       "    <tr>\n",
       "      <th>drinks</th>\n",
       "      <td>797</td>\n",
       "    </tr>\n",
       "    <tr>\n",
       "      <th>fruit</th>\n",
       "      <td>1005</td>\n",
       "    </tr>\n",
       "    <tr>\n",
       "      <th>spices</th>\n",
       "      <td>750</td>\n",
       "    </tr>\n",
       "  </tbody>\n",
       "</table>\n",
       "</div>"
      ],
      "text/plain": [
       "          customer_no\n",
       "location             \n",
       "checkout         1437\n",
       "dairy             895\n",
       "drinks            797\n",
       "fruit            1005\n",
       "spices            750"
      ]
     },
     "execution_count": 18,
     "metadata": {},
     "output_type": "execute_result"
    }
   ],
   "source": [
    "dfm.groupby('location').count()"
   ]
  },
  {
   "cell_type": "markdown",
   "id": "b8374314-289d-4eb3-a831-c8e9a2a7fa3e",
   "metadata": {},
   "source": [
    "only 1437 out 1447 went officially through checkout on monday "
   ]
  },
  {
   "cell_type": "markdown",
   "id": "e5106db2-3e84-4f07-913b-96491455114f",
   "metadata": {},
   "source": [
    "Total number of customers in each section over time:"
   ]
  },
  {
   "cell_type": "code",
   "execution_count": 19,
   "id": "62914cf1-b6f2-40d4-8cf3-64e37a7f173d",
   "metadata": {},
   "outputs": [
    {
     "data": {
      "text/html": [
       "<div>\n",
       "<style scoped>\n",
       "    .dataframe tbody tr th:only-of-type {\n",
       "        vertical-align: middle;\n",
       "    }\n",
       "\n",
       "    .dataframe tbody tr th {\n",
       "        vertical-align: top;\n",
       "    }\n",
       "\n",
       "    .dataframe thead th {\n",
       "        text-align: right;\n",
       "    }\n",
       "</style>\n",
       "<table border=\"1\" class=\"dataframe\">\n",
       "  <thead>\n",
       "    <tr style=\"text-align: right;\">\n",
       "      <th></th>\n",
       "      <th></th>\n",
       "      <th>customer_no</th>\n",
       "    </tr>\n",
       "    <tr>\n",
       "      <th>timestamp</th>\n",
       "      <th>location</th>\n",
       "      <th></th>\n",
       "    </tr>\n",
       "  </thead>\n",
       "  <tbody>\n",
       "    <tr>\n",
       "      <th>2019-09-02 07:03:00</th>\n",
       "      <th>dairy</th>\n",
       "      <td>2</td>\n",
       "    </tr>\n",
       "    <tr>\n",
       "      <th rowspan=\"3\" valign=\"top\">2019-09-02 07:04:00</th>\n",
       "      <th>dairy</th>\n",
       "      <td>4</td>\n",
       "    </tr>\n",
       "    <tr>\n",
       "      <th>fruit</th>\n",
       "      <td>1</td>\n",
       "    </tr>\n",
       "    <tr>\n",
       "      <th>spices</th>\n",
       "      <td>3</td>\n",
       "    </tr>\n",
       "    <tr>\n",
       "      <th>2019-09-02 07:05:00</th>\n",
       "      <th>checkout</th>\n",
       "      <td>2</td>\n",
       "    </tr>\n",
       "    <tr>\n",
       "      <th>...</th>\n",
       "      <th>...</th>\n",
       "      <td>...</td>\n",
       "    </tr>\n",
       "    <tr>\n",
       "      <th rowspan=\"3\" valign=\"top\">2019-09-02 21:49:00</th>\n",
       "      <th>dairy</th>\n",
       "      <td>1</td>\n",
       "    </tr>\n",
       "    <tr>\n",
       "      <th>fruit</th>\n",
       "      <td>2</td>\n",
       "    </tr>\n",
       "    <tr>\n",
       "      <th>spices</th>\n",
       "      <td>2</td>\n",
       "    </tr>\n",
       "    <tr>\n",
       "      <th rowspan=\"2\" valign=\"top\">2019-09-02 21:50:00</th>\n",
       "      <th>dairy</th>\n",
       "      <td>1</td>\n",
       "    </tr>\n",
       "    <tr>\n",
       "      <th>fruit</th>\n",
       "      <td>1</td>\n",
       "    </tr>\n",
       "  </tbody>\n",
       "</table>\n",
       "<p>3777 rows × 1 columns</p>\n",
       "</div>"
      ],
      "text/plain": [
       "                              customer_no\n",
       "timestamp           location             \n",
       "2019-09-02 07:03:00 dairy               2\n",
       "2019-09-02 07:04:00 dairy               4\n",
       "                    fruit               1\n",
       "                    spices              3\n",
       "2019-09-02 07:05:00 checkout            2\n",
       "...                                   ...\n",
       "2019-09-02 21:49:00 dairy               1\n",
       "                    fruit               2\n",
       "                    spices              2\n",
       "2019-09-02 21:50:00 dairy               1\n",
       "                    fruit               1\n",
       "\n",
       "[3777 rows x 1 columns]"
      ]
     },
     "execution_count": 19,
     "metadata": {},
     "output_type": "execute_result"
    }
   ],
   "source": [
    "dfm_res.groupby(['timestamp','location']).count()"
   ]
  },
  {
   "cell_type": "markdown",
   "id": "a865d16e-bd9f-40b9-b319-f6621338902b",
   "metadata": {},
   "source": [
    "Customers at checkout over time:"
   ]
  },
  {
   "cell_type": "code",
   "execution_count": 20,
   "id": "71e0d653-2d22-42e7-96af-7c267bb6b75c",
   "metadata": {},
   "outputs": [
    {
     "data": {
      "text/plain": [
       "timestamp\n",
       "2019-09-02 07:05:00    2\n",
       "2019-09-02 07:06:00    2\n",
       "2019-09-02 07:07:00    1\n",
       "2019-09-02 07:08:00    3\n",
       "2019-09-02 07:09:00    1\n",
       "                      ..\n",
       "2019-09-02 21:44:00    1\n",
       "2019-09-02 21:46:00    1\n",
       "2019-09-02 21:47:00    2\n",
       "2019-09-02 21:48:00    2\n",
       "2019-09-02 21:49:00    2\n",
       "Name: location, Length: 700, dtype: int64"
      ]
     },
     "execution_count": 20,
     "metadata": {},
     "output_type": "execute_result"
    }
   ],
   "source": [
    "dfm_t = dfm[dfm['location']=='checkout'].groupby('timestamp')['location'].count()\n",
    "dfm_t"
   ]
  },
  {
   "cell_type": "code",
   "execution_count": 21,
   "id": "3b308cca-6671-4470-833c-674db8016003",
   "metadata": {},
   "outputs": [
    {
     "data": {
      "text/plain": [
       "[<matplotlib.lines.Line2D at 0x1a9edc373d0>]"
      ]
     },
     "execution_count": 21,
     "metadata": {},
     "output_type": "execute_result"
    },
    {
     "data": {
      "image/png": "[encoded data removed]",
      "text/plain": [
       "<Figure size 432x288 with 1 Axes>"
      ]
     },
     "metadata": {
      "needs_background": "light"
     },
     "output_type": "display_data"
    }
   ],
   "source": [
    "plt.plot( dfm_t.index[0:50], dfm_t[0:50])"
   ]
  },
  {
   "cell_type": "code",
   "execution_count": 22,
   "id": "fef0ff78-2a41-4c91-a7d4-020f5e146cc3",
   "metadata": {
    "tags": []
   },
   "outputs": [
    {
     "data": {
      "text/plain": [
       "DatetimeIndex(['2019-09-02 07:05:00', '2019-09-02 07:06:00',\n",
       "               '2019-09-02 07:07:00', '2019-09-02 07:08:00',\n",
       "               '2019-09-02 07:09:00', '2019-09-02 07:10:00',\n",
       "               '2019-09-02 07:11:00', '2019-09-02 07:12:00',\n",
       "               '2019-09-02 07:13:00', '2019-09-02 07:14:00',\n",
       "               ...\n",
       "               '2019-09-02 21:32:00', '2019-09-02 21:33:00',\n",
       "               '2019-09-02 21:34:00', '2019-09-02 21:36:00',\n",
       "               '2019-09-02 21:37:00', '2019-09-02 21:44:00',\n",
       "               '2019-09-02 21:46:00', '2019-09-02 21:47:00',\n",
       "               '2019-09-02 21:48:00', '2019-09-02 21:49:00'],\n",
       "              dtype='datetime64[ns]', name='timestamp', length=700, freq=None)"
      ]
     },
     "execution_count": 22,
     "metadata": {},
     "output_type": "execute_result"
    }
   ],
   "source": [
    "dfm[dfm['location']=='checkout'].groupby('timestamp').count().index"
   ]
  },
  {
   "cell_type": "markdown",
   "id": "f26206d4-dfff-46eb-97bd-770838a762de",
   "metadata": {},
   "source": [
    "Time each customer spent in the market:"
   ]
  },
  {
   "cell_type": "code",
   "execution_count": 23,
   "id": "caaf005f-1aaa-4b80-bf2c-16f7bce10a92",
   "metadata": {},
   "outputs": [],
   "source": [
    "dfm_res.drop(columns='customer_no', inplace=True)"
   ]
  },
  {
   "cell_type": "code",
   "execution_count": 24,
   "id": "a31c12c6-01d2-4f2b-a0ae-139e27d21873",
   "metadata": {},
   "outputs": [
    {
     "data": {
      "text/html": [
       "<div>\n",
       "<style scoped>\n",
       "    .dataframe tbody tr th:only-of-type {\n",
       "        vertical-align: middle;\n",
       "    }\n",
       "\n",
       "    .dataframe tbody tr th {\n",
       "        vertical-align: top;\n",
       "    }\n",
       "\n",
       "    .dataframe thead th {\n",
       "        text-align: right;\n",
       "    }\n",
       "</style>\n",
       "<table border=\"1\" class=\"dataframe\">\n",
       "  <thead>\n",
       "    <tr style=\"text-align: right;\">\n",
       "      <th></th>\n",
       "      <th></th>\n",
       "      <th>location</th>\n",
       "    </tr>\n",
       "    <tr>\n",
       "      <th>customer_no</th>\n",
       "      <th>timestamp</th>\n",
       "      <th></th>\n",
       "    </tr>\n",
       "  </thead>\n",
       "  <tbody>\n",
       "    <tr>\n",
       "      <th rowspan=\"3\" valign=\"top\">1</th>\n",
       "      <th>2019-09-02 07:03:00</th>\n",
       "      <td>dairy</td>\n",
       "    </tr>\n",
       "    <tr>\n",
       "      <th>2019-09-02 07:04:00</th>\n",
       "      <td>dairy</td>\n",
       "    </tr>\n",
       "    <tr>\n",
       "      <th>2019-09-02 07:05:00</th>\n",
       "      <td>checkout</td>\n",
       "    </tr>\n",
       "    <tr>\n",
       "      <th rowspan=\"2\" valign=\"top\">2</th>\n",
       "      <th>2019-09-02 07:03:00</th>\n",
       "      <td>dairy</td>\n",
       "    </tr>\n",
       "    <tr>\n",
       "      <th>2019-09-02 07:04:00</th>\n",
       "      <td>dairy</td>\n",
       "    </tr>\n",
       "    <tr>\n",
       "      <th>...</th>\n",
       "      <th>...</th>\n",
       "      <td>...</td>\n",
       "    </tr>\n",
       "    <tr>\n",
       "      <th rowspan=\"2\" valign=\"top\">1444</th>\n",
       "      <th>2019-09-02 21:48:00</th>\n",
       "      <td>spices</td>\n",
       "    </tr>\n",
       "    <tr>\n",
       "      <th>2019-09-02 21:49:00</th>\n",
       "      <td>checkout</td>\n",
       "    </tr>\n",
       "    <tr>\n",
       "      <th>1445</th>\n",
       "      <th>2019-09-02 21:49:00</th>\n",
       "      <td>dairy</td>\n",
       "    </tr>\n",
       "    <tr>\n",
       "      <th>1446</th>\n",
       "      <th>2019-09-02 21:50:00</th>\n",
       "      <td>dairy</td>\n",
       "    </tr>\n",
       "    <tr>\n",
       "      <th>1447</th>\n",
       "      <th>2019-09-02 21:50:00</th>\n",
       "      <td>fruit</td>\n",
       "    </tr>\n",
       "  </tbody>\n",
       "</table>\n",
       "<p>10765 rows × 1 columns</p>\n",
       "</div>"
      ],
      "text/plain": [
       "                                 location\n",
       "customer_no timestamp                    \n",
       "1           2019-09-02 07:03:00     dairy\n",
       "            2019-09-02 07:04:00     dairy\n",
       "            2019-09-02 07:05:00  checkout\n",
       "2           2019-09-02 07:03:00     dairy\n",
       "            2019-09-02 07:04:00     dairy\n",
       "...                                   ...\n",
       "1444        2019-09-02 21:48:00    spices\n",
       "            2019-09-02 21:49:00  checkout\n",
       "1445        2019-09-02 21:49:00     dairy\n",
       "1446        2019-09-02 21:50:00     dairy\n",
       "1447        2019-09-02 21:50:00     fruit\n",
       "\n",
       "[10765 rows x 1 columns]"
      ]
     },
     "execution_count": 24,
     "metadata": {},
     "output_type": "execute_result"
    }
   ],
   "source": [
    "dfm_res"
   ]
  },
  {
   "cell_type": "code",
   "execution_count": 25,
   "id": "f23cd9be-7416-4e9f-b662-9dba17b151c2",
   "metadata": {},
   "outputs": [
    {
     "data": {
      "text/plain": [
       "MultiIndex([(   1, '2019-09-02 07:03:00'),\n",
       "            (   1, '2019-09-02 07:04:00'),\n",
       "            (   1, '2019-09-02 07:05:00'),\n",
       "            (   2, '2019-09-02 07:03:00'),\n",
       "            (   2, '2019-09-02 07:04:00'),\n",
       "            (   2, '2019-09-02 07:05:00'),\n",
       "            (   2, '2019-09-02 07:06:00'),\n",
       "            (   3, '2019-09-02 07:04:00'),\n",
       "            (   3, '2019-09-02 07:05:00'),\n",
       "            (   3, '2019-09-02 07:06:00'),\n",
       "            ...\n",
       "            (1442, '2019-09-02 21:47:00'),\n",
       "            (1442, '2019-09-02 21:48:00'),\n",
       "            (1442, '2019-09-02 21:49:00'),\n",
       "            (1443, '2019-09-02 21:47:00'),\n",
       "            (1443, '2019-09-02 21:48:00'),\n",
       "            (1444, '2019-09-02 21:48:00'),\n",
       "            (1444, '2019-09-02 21:49:00'),\n",
       "            (1445, '2019-09-02 21:49:00'),\n",
       "            (1446, '2019-09-02 21:50:00'),\n",
       "            (1447, '2019-09-02 21:50:00')],\n",
       "           names=['customer_no', 'timestamp'], length=10765)"
      ]
     },
     "execution_count": 25,
     "metadata": {},
     "output_type": "execute_result"
    }
   ],
   "source": [
    "dfm_res.index"
   ]
  },
  {
   "cell_type": "code",
   "execution_count": 26,
   "id": "bbaedec8-a7df-4638-b57a-9f1afaf3378e",
   "metadata": {},
   "outputs": [
    {
     "data": {
      "text/html": [
       "<div>\n",
       "<style scoped>\n",
       "    .dataframe tbody tr th:only-of-type {\n",
       "        vertical-align: middle;\n",
       "    }\n",
       "\n",
       "    .dataframe tbody tr th {\n",
       "        vertical-align: top;\n",
       "    }\n",
       "\n",
       "    .dataframe thead th {\n",
       "        text-align: right;\n",
       "    }\n",
       "</style>\n",
       "<table border=\"1\" class=\"dataframe\">\n",
       "  <thead>\n",
       "    <tr style=\"text-align: right;\">\n",
       "      <th></th>\n",
       "      <th>location</th>\n",
       "    </tr>\n",
       "    <tr>\n",
       "      <th>customer_no</th>\n",
       "      <th></th>\n",
       "    </tr>\n",
       "  </thead>\n",
       "  <tbody>\n",
       "    <tr>\n",
       "      <th>1</th>\n",
       "      <td>3</td>\n",
       "    </tr>\n",
       "    <tr>\n",
       "      <th>2</th>\n",
       "      <td>4</td>\n",
       "    </tr>\n",
       "    <tr>\n",
       "      <th>3</th>\n",
       "      <td>3</td>\n",
       "    </tr>\n",
       "    <tr>\n",
       "      <th>4</th>\n",
       "      <td>5</td>\n",
       "    </tr>\n",
       "    <tr>\n",
       "      <th>5</th>\n",
       "      <td>2</td>\n",
       "    </tr>\n",
       "    <tr>\n",
       "      <th>...</th>\n",
       "      <td>...</td>\n",
       "    </tr>\n",
       "    <tr>\n",
       "      <th>1443</th>\n",
       "      <td>2</td>\n",
       "    </tr>\n",
       "    <tr>\n",
       "      <th>1444</th>\n",
       "      <td>2</td>\n",
       "    </tr>\n",
       "    <tr>\n",
       "      <th>1445</th>\n",
       "      <td>1</td>\n",
       "    </tr>\n",
       "    <tr>\n",
       "      <th>1446</th>\n",
       "      <td>1</td>\n",
       "    </tr>\n",
       "    <tr>\n",
       "      <th>1447</th>\n",
       "      <td>1</td>\n",
       "    </tr>\n",
       "  </tbody>\n",
       "</table>\n",
       "<p>1447 rows × 1 columns</p>\n",
       "</div>"
      ],
      "text/plain": [
       "             location\n",
       "customer_no          \n",
       "1                   3\n",
       "2                   4\n",
       "3                   3\n",
       "4                   5\n",
       "5                   2\n",
       "...               ...\n",
       "1443                2\n",
       "1444                2\n",
       "1445                1\n",
       "1446                1\n",
       "1447                1\n",
       "\n",
       "[1447 rows x 1 columns]"
      ]
     },
     "execution_count": 26,
     "metadata": {},
     "output_type": "execute_result"
    }
   ],
   "source": [
    "dfm_res.groupby('customer_no').count()"
   ]
  },
  {
   "cell_type": "code",
   "execution_count": 27,
   "id": "a9e87301-cdc6-4370-aec4-bc84cb08ef97",
   "metadata": {},
   "outputs": [
    {
     "data": {
      "text/html": [
       "<div>\n",
       "<style scoped>\n",
       "    .dataframe tbody tr th:only-of-type {\n",
       "        vertical-align: middle;\n",
       "    }\n",
       "\n",
       "    .dataframe tbody tr th {\n",
       "        vertical-align: top;\n",
       "    }\n",
       "\n",
       "    .dataframe thead th {\n",
       "        text-align: right;\n",
       "    }\n",
       "</style>\n",
       "<table border=\"1\" class=\"dataframe\">\n",
       "  <thead>\n",
       "    <tr style=\"text-align: right;\">\n",
       "      <th></th>\n",
       "      <th>location</th>\n",
       "    </tr>\n",
       "    <tr>\n",
       "      <th>customer_no</th>\n",
       "      <th></th>\n",
       "    </tr>\n",
       "  </thead>\n",
       "  <tbody>\n",
       "    <tr>\n",
       "      <th>1</th>\n",
       "      <td>3</td>\n",
       "    </tr>\n",
       "    <tr>\n",
       "      <th>2</th>\n",
       "      <td>4</td>\n",
       "    </tr>\n",
       "    <tr>\n",
       "      <th>3</th>\n",
       "      <td>3</td>\n",
       "    </tr>\n",
       "    <tr>\n",
       "      <th>4</th>\n",
       "      <td>5</td>\n",
       "    </tr>\n",
       "    <tr>\n",
       "      <th>5</th>\n",
       "      <td>2</td>\n",
       "    </tr>\n",
       "    <tr>\n",
       "      <th>6</th>\n",
       "      <td>26</td>\n",
       "    </tr>\n",
       "    <tr>\n",
       "      <th>7</th>\n",
       "      <td>10</td>\n",
       "    </tr>\n",
       "    <tr>\n",
       "      <th>8</th>\n",
       "      <td>4</td>\n",
       "    </tr>\n",
       "    <tr>\n",
       "      <th>9</th>\n",
       "      <td>8</td>\n",
       "    </tr>\n",
       "    <tr>\n",
       "      <th>10</th>\n",
       "      <td>3</td>\n",
       "    </tr>\n",
       "  </tbody>\n",
       "</table>\n",
       "</div>"
      ],
      "text/plain": [
       "             location\n",
       "customer_no          \n",
       "1                   3\n",
       "2                   4\n",
       "3                   3\n",
       "4                   5\n",
       "5                   2\n",
       "6                  26\n",
       "7                  10\n",
       "8                   4\n",
       "9                   8\n",
       "10                  3"
      ]
     },
     "execution_count": 27,
     "metadata": {},
     "output_type": "execute_result"
    }
   ],
   "source": [
    "dfm_res.groupby('customer_no').count().head(10)"
   ]
  },
  {
   "cell_type": "markdown",
   "id": "5e5d0ec0-da77-40dd-bec7-01ddb91a71e0",
   "metadata": {},
   "source": [
    "Number of customers in the supermarket over time:"
   ]
  },
  {
   "cell_type": "code",
   "execution_count": 28,
   "id": "e6842904-0f39-4ce2-bf0e-8df71e5f4479",
   "metadata": {},
   "outputs": [
    {
     "data": {
      "text/html": [
       "<div>\n",
       "<style scoped>\n",
       "    .dataframe tbody tr th:only-of-type {\n",
       "        vertical-align: middle;\n",
       "    }\n",
       "\n",
       "    .dataframe tbody tr th {\n",
       "        vertical-align: top;\n",
       "    }\n",
       "\n",
       "    .dataframe thead th {\n",
       "        text-align: right;\n",
       "    }\n",
       "</style>\n",
       "<table border=\"1\" class=\"dataframe\">\n",
       "  <thead>\n",
       "    <tr style=\"text-align: right;\">\n",
       "      <th></th>\n",
       "      <th>location</th>\n",
       "    </tr>\n",
       "    <tr>\n",
       "      <th>timestamp</th>\n",
       "      <th></th>\n",
       "    </tr>\n",
       "  </thead>\n",
       "  <tbody>\n",
       "    <tr>\n",
       "      <th>2019-09-02 07:03:00</th>\n",
       "      <td>2</td>\n",
       "    </tr>\n",
       "    <tr>\n",
       "      <th>2019-09-02 07:04:00</th>\n",
       "      <td>8</td>\n",
       "    </tr>\n",
       "    <tr>\n",
       "      <th>2019-09-02 07:05:00</th>\n",
       "      <td>8</td>\n",
       "    </tr>\n",
       "    <tr>\n",
       "      <th>2019-09-02 07:06:00</th>\n",
       "      <td>12</td>\n",
       "    </tr>\n",
       "    <tr>\n",
       "      <th>2019-09-02 07:07:00</th>\n",
       "      <td>12</td>\n",
       "    </tr>\n",
       "    <tr>\n",
       "      <th>...</th>\n",
       "      <td>...</td>\n",
       "    </tr>\n",
       "    <tr>\n",
       "      <th>2019-09-02 21:46:00</th>\n",
       "      <td>10</td>\n",
       "    </tr>\n",
       "    <tr>\n",
       "      <th>2019-09-02 21:47:00</th>\n",
       "      <td>11</td>\n",
       "    </tr>\n",
       "    <tr>\n",
       "      <th>2019-09-02 21:48:00</th>\n",
       "      <td>9</td>\n",
       "    </tr>\n",
       "    <tr>\n",
       "      <th>2019-09-02 21:49:00</th>\n",
       "      <td>7</td>\n",
       "    </tr>\n",
       "    <tr>\n",
       "      <th>2019-09-02 21:50:00</th>\n",
       "      <td>2</td>\n",
       "    </tr>\n",
       "  </tbody>\n",
       "</table>\n",
       "<p>888 rows × 1 columns</p>\n",
       "</div>"
      ],
      "text/plain": [
       "                     location\n",
       "timestamp                    \n",
       "2019-09-02 07:03:00         2\n",
       "2019-09-02 07:04:00         8\n",
       "2019-09-02 07:05:00         8\n",
       "2019-09-02 07:06:00        12\n",
       "2019-09-02 07:07:00        12\n",
       "...                       ...\n",
       "2019-09-02 21:46:00        10\n",
       "2019-09-02 21:47:00        11\n",
       "2019-09-02 21:48:00         9\n",
       "2019-09-02 21:49:00         7\n",
       "2019-09-02 21:50:00         2\n",
       "\n",
       "[888 rows x 1 columns]"
      ]
     },
     "execution_count": 28,
     "metadata": {},
     "output_type": "execute_result"
    }
   ],
   "source": [
    "dfm_res.groupby('timestamp').count()"
   ]
  },
  {
   "cell_type": "code",
   "execution_count": 29,
   "id": "5b13c5c8-95f9-4680-9d9f-c76de45c1c89",
   "metadata": {},
   "outputs": [
    {
     "data": {
      "text/html": [
       "<div>\n",
       "<style scoped>\n",
       "    .dataframe tbody tr th:only-of-type {\n",
       "        vertical-align: middle;\n",
       "    }\n",
       "\n",
       "    .dataframe tbody tr th {\n",
       "        vertical-align: top;\n",
       "    }\n",
       "\n",
       "    .dataframe thead th {\n",
       "        text-align: right;\n",
       "    }\n",
       "</style>\n",
       "<table border=\"1\" class=\"dataframe\">\n",
       "  <thead>\n",
       "    <tr style=\"text-align: right;\">\n",
       "      <th></th>\n",
       "      <th></th>\n",
       "      <th>location</th>\n",
       "    </tr>\n",
       "    <tr>\n",
       "      <th>customer_no</th>\n",
       "      <th>timestamp</th>\n",
       "      <th></th>\n",
       "    </tr>\n",
       "  </thead>\n",
       "  <tbody>\n",
       "    <tr>\n",
       "      <th rowspan=\"2\" valign=\"top\">1444</th>\n",
       "      <th>2019-09-02 21:48:00</th>\n",
       "      <td>spices</td>\n",
       "    </tr>\n",
       "    <tr>\n",
       "      <th>2019-09-02 21:49:00</th>\n",
       "      <td>checkout</td>\n",
       "    </tr>\n",
       "    <tr>\n",
       "      <th>1445</th>\n",
       "      <th>2019-09-02 21:49:00</th>\n",
       "      <td>dairy</td>\n",
       "    </tr>\n",
       "    <tr>\n",
       "      <th>1446</th>\n",
       "      <th>2019-09-02 21:50:00</th>\n",
       "      <td>dairy</td>\n",
       "    </tr>\n",
       "    <tr>\n",
       "      <th>1447</th>\n",
       "      <th>2019-09-02 21:50:00</th>\n",
       "      <td>fruit</td>\n",
       "    </tr>\n",
       "  </tbody>\n",
       "</table>\n",
       "</div>"
      ],
      "text/plain": [
       "                                 location\n",
       "customer_no timestamp                    \n",
       "1444        2019-09-02 21:48:00    spices\n",
       "            2019-09-02 21:49:00  checkout\n",
       "1445        2019-09-02 21:49:00     dairy\n",
       "1446        2019-09-02 21:50:00     dairy\n",
       "1447        2019-09-02 21:50:00     fruit"
      ]
     },
     "execution_count": 29,
     "metadata": {},
     "output_type": "execute_result"
    }
   ],
   "source": [
    "dfm_res.tail(5)"
   ]
  },
  {
   "cell_type": "code",
   "execution_count": 30,
   "id": "5d6d98ea-5019-4f19-a25e-551ec3bbfe72",
   "metadata": {},
   "outputs": [
    {
     "data": {
      "text/plain": [
       "customer_no\n",
       "1       checkout\n",
       "2       checkout\n",
       "3       checkout\n",
       "4       checkout\n",
       "5       checkout\n",
       "          ...   \n",
       "1443       dairy\n",
       "1444    checkout\n",
       "1445       dairy\n",
       "1446       dairy\n",
       "1447       fruit\n",
       "Name: location, Length: 1447, dtype: object"
      ]
     },
     "execution_count": 30,
     "metadata": {},
     "output_type": "execute_result"
    }
   ],
   "source": [
    "dfm.groupby('customer_no')['location'].last()"
   ]
  },
  {
   "cell_type": "code",
   "execution_count": 31,
   "id": "ac162437-3a51-420c-a373-725cd13c062e",
   "metadata": {},
   "outputs": [
    {
     "data": {
      "text/plain": [
       "'dairy'"
      ]
     },
     "execution_count": 31,
     "metadata": {},
     "output_type": "execute_result"
    }
   ],
   "source": [
    "dfm.groupby('customer_no')['location'].last()[1446]"
   ]
  },
  {
   "cell_type": "code",
   "execution_count": 32,
   "id": "7e558464-5a8d-45f1-a330-5df535feb6cd",
   "metadata": {},
   "outputs": [
    {
     "data": {
      "text/plain": [
       "1447"
      ]
     },
     "execution_count": 32,
     "metadata": {},
     "output_type": "execute_result"
    }
   ],
   "source": [
    "len(dfm.groupby('customer_no')['location'].last())"
   ]
  },
  {
   "cell_type": "code",
   "execution_count": 33,
   "id": "45906536-25f2-4ff4-9e67-0f4caaa8f098",
   "metadata": {},
   "outputs": [
    {
     "data": {
      "text/plain": [
       "range(0, 1447)"
      ]
     },
     "execution_count": 33,
     "metadata": {},
     "output_type": "execute_result"
    }
   ],
   "source": [
    "range(len(dfm.groupby('customer_no')['location'].last()))"
   ]
  },
  {
   "cell_type": "markdown",
   "id": "5a06b5c3-697f-472d-a557-c57ab11ed066",
   "metadata": {},
   "source": [
    "Defining functions to locate lost customers and check them out"
   ]
  },
  {
   "cell_type": "code",
   "execution_count": 34,
   "id": "ad6c9917-0c63-4b43-a184-d99df2b4e713",
   "metadata": {
    "tags": []
   },
   "outputs": [
    {
     "data": {
      "text/plain": [
       "10"
      ]
     },
     "execution_count": 34,
     "metadata": {},
     "output_type": "execute_result"
    }
   ],
   "source": [
    "lost_customers=[]\n",
    "for i in range(len(dfm.groupby('customer_no')['location'].last())):      \n",
    "    if dfm.groupby('customer_no')['location'].last()[i+1] != 'checkout':\n",
    "               lost_customers.append(i+1) \n",
    "len(lost_customers)"
   ]
  },
  {
   "cell_type": "code",
   "execution_count": 35,
   "id": "796da23b-4426-4922-ae55-f8ab39b47cf7",
   "metadata": {},
   "outputs": [],
   "source": [
    "def lost_customers(df):\n",
    "    lost_customers=[]\n",
    "    for i in range(len(df.groupby('customer_no')['location'].last())):     \n",
    "        if df.groupby('customer_no')['location'].last()[i+1] != 'checkout':\n",
    "                   lost_customers.append(i+1) \n",
    "    n_lost_customers = len(lost_customers)\n",
    "    return lost_customers, n_lost_customers"
   ]
  },
  {
   "cell_type": "code",
   "execution_count": 36,
   "id": "b11fbb99-7c1e-4340-8b63-367ca8ac8ecf",
   "metadata": {
    "tags": []
   },
   "outputs": [],
   "source": [
    "lc_list, n_lc = lost_customers(dfw)"
   ]
  },
  {
   "cell_type": "code",
   "execution_count": 37,
   "id": "0899956c-6e62-47da-bb59-8cb89ffdf3a5",
   "metadata": {},
   "outputs": [
    {
     "data": {
      "text/plain": [
       "[1520, 1527, 1528, 1529, 1530]"
      ]
     },
     "execution_count": 37,
     "metadata": {},
     "output_type": "execute_result"
    }
   ],
   "source": [
    "lc_list"
   ]
  },
  {
   "cell_type": "code",
   "execution_count": 38,
   "id": "9b8a2eae-a207-491f-956d-08961a7affdf",
   "metadata": {},
   "outputs": [],
   "source": [
    "lost_customers_m, n_lost_customers_m = lost_customers(dfm)"
   ]
  },
  {
   "cell_type": "markdown",
   "id": "3b87f73a-ac97-4d56-a3e2-f2b79a8b0c70",
   "metadata": {},
   "source": [
    "Generating Dataframe with lost customers checkout row"
   ]
  },
  {
   "cell_type": "code",
   "execution_count": 39,
   "id": "2b9462e5-5de5-4dfb-9d8a-a78fa74503fa",
   "metadata": {},
   "outputs": [],
   "source": [
    "d = {'customer_no': lost_customers_m, 'location': ['checkout']*n_lost_customers_m}"
   ]
  },
  {
   "cell_type": "code",
   "execution_count": 40,
   "id": "f886eb43-d678-40ba-835a-d4abf9ea418d",
   "metadata": {},
   "outputs": [
    {
     "data": {
      "text/plain": [
       "Timestamp('2019-09-02 21:50:00')"
      ]
     },
     "execution_count": 40,
     "metadata": {},
     "output_type": "execute_result"
    }
   ],
   "source": [
    "dfm.index[-1]"
   ]
  },
  {
   "cell_type": "code",
   "execution_count": 41,
   "id": "bb275bf5-f9ee-4e36-b1fc-dd8a8a88f81c",
   "metadata": {},
   "outputs": [],
   "source": [
    "df_lost_customers = pd.DataFrame(data=d, index=[dfm.index[-1]]*n_lost_customers_m)"
   ]
  },
  {
   "cell_type": "code",
   "execution_count": 42,
   "id": "54c442bf-da25-435a-a8ca-2c3984642149",
   "metadata": {},
   "outputs": [
    {
     "data": {
      "text/html": [
       "<div>\n",
       "<style scoped>\n",
       "    .dataframe tbody tr th:only-of-type {\n",
       "        vertical-align: middle;\n",
       "    }\n",
       "\n",
       "    .dataframe tbody tr th {\n",
       "        vertical-align: top;\n",
       "    }\n",
       "\n",
       "    .dataframe thead th {\n",
       "        text-align: right;\n",
       "    }\n",
       "</style>\n",
       "<table border=\"1\" class=\"dataframe\">\n",
       "  <thead>\n",
       "    <tr style=\"text-align: right;\">\n",
       "      <th></th>\n",
       "      <th>customer_no</th>\n",
       "      <th>location</th>\n",
       "    </tr>\n",
       "  </thead>\n",
       "  <tbody>\n",
       "    <tr>\n",
       "      <th>2019-09-02 21:50:00</th>\n",
       "      <td>1430</td>\n",
       "      <td>checkout</td>\n",
       "    </tr>\n",
       "    <tr>\n",
       "      <th>2019-09-02 21:50:00</th>\n",
       "      <td>1433</td>\n",
       "      <td>checkout</td>\n",
       "    </tr>\n",
       "    <tr>\n",
       "      <th>2019-09-02 21:50:00</th>\n",
       "      <td>1437</td>\n",
       "      <td>checkout</td>\n",
       "    </tr>\n",
       "    <tr>\n",
       "      <th>2019-09-02 21:50:00</th>\n",
       "      <td>1439</td>\n",
       "      <td>checkout</td>\n",
       "    </tr>\n",
       "    <tr>\n",
       "      <th>2019-09-02 21:50:00</th>\n",
       "      <td>1440</td>\n",
       "      <td>checkout</td>\n",
       "    </tr>\n",
       "    <tr>\n",
       "      <th>2019-09-02 21:50:00</th>\n",
       "      <td>1441</td>\n",
       "      <td>checkout</td>\n",
       "    </tr>\n",
       "    <tr>\n",
       "      <th>2019-09-02 21:50:00</th>\n",
       "      <td>1443</td>\n",
       "      <td>checkout</td>\n",
       "    </tr>\n",
       "    <tr>\n",
       "      <th>2019-09-02 21:50:00</th>\n",
       "      <td>1445</td>\n",
       "      <td>checkout</td>\n",
       "    </tr>\n",
       "    <tr>\n",
       "      <th>2019-09-02 21:50:00</th>\n",
       "      <td>1446</td>\n",
       "      <td>checkout</td>\n",
       "    </tr>\n",
       "    <tr>\n",
       "      <th>2019-09-02 21:50:00</th>\n",
       "      <td>1447</td>\n",
       "      <td>checkout</td>\n",
       "    </tr>\n",
       "  </tbody>\n",
       "</table>\n",
       "</div>"
      ],
      "text/plain": [
       "                     customer_no  location\n",
       "2019-09-02 21:50:00         1430  checkout\n",
       "2019-09-02 21:50:00         1433  checkout\n",
       "2019-09-02 21:50:00         1437  checkout\n",
       "2019-09-02 21:50:00         1439  checkout\n",
       "2019-09-02 21:50:00         1440  checkout\n",
       "2019-09-02 21:50:00         1441  checkout\n",
       "2019-09-02 21:50:00         1443  checkout\n",
       "2019-09-02 21:50:00         1445  checkout\n",
       "2019-09-02 21:50:00         1446  checkout\n",
       "2019-09-02 21:50:00         1447  checkout"
      ]
     },
     "execution_count": 42,
     "metadata": {},
     "output_type": "execute_result"
    }
   ],
   "source": [
    "df_lost_customers"
   ]
  },
  {
   "cell_type": "code",
   "execution_count": 43,
   "id": "1ca7f259-f4a0-4617-a3f5-d27c41b965af",
   "metadata": {},
   "outputs": [
    {
     "data": {
      "text/plain": [
       "DatetimeIndex(['2019-09-02 21:50:00', '2019-09-02 21:50:00',\n",
       "               '2019-09-02 21:50:00', '2019-09-02 21:50:00',\n",
       "               '2019-09-02 21:50:00', '2019-09-02 21:50:00',\n",
       "               '2019-09-02 21:50:00', '2019-09-02 21:50:00',\n",
       "               '2019-09-02 21:50:00', '2019-09-02 21:50:00'],\n",
       "              dtype='datetime64[ns]', freq=None)"
      ]
     },
     "execution_count": 43,
     "metadata": {},
     "output_type": "execute_result"
    }
   ],
   "source": [
    "df_lost_customers.index"
   ]
  },
  {
   "cell_type": "markdown",
   "id": "9f70989f-7a97-4530-a3cd-74743f3f7f9e",
   "metadata": {},
   "source": [
    "Checking that locations of one lost customer don't include the checkout"
   ]
  },
  {
   "cell_type": "code",
   "execution_count": 44,
   "id": "2e74ff6d-6cb0-4f29-b089-ce53d7431102",
   "metadata": {},
   "outputs": [
    {
     "data": {
      "text/html": [
       "<div>\n",
       "<style scoped>\n",
       "    .dataframe tbody tr th:only-of-type {\n",
       "        vertical-align: middle;\n",
       "    }\n",
       "\n",
       "    .dataframe tbody tr th {\n",
       "        vertical-align: top;\n",
       "    }\n",
       "\n",
       "    .dataframe thead th {\n",
       "        text-align: right;\n",
       "    }\n",
       "</style>\n",
       "<table border=\"1\" class=\"dataframe\">\n",
       "  <thead>\n",
       "    <tr style=\"text-align: right;\">\n",
       "      <th></th>\n",
       "      <th>customer_no</th>\n",
       "      <th>location</th>\n",
       "    </tr>\n",
       "    <tr>\n",
       "      <th>timestamp</th>\n",
       "      <th></th>\n",
       "      <th></th>\n",
       "    </tr>\n",
       "  </thead>\n",
       "  <tbody>\n",
       "    <tr>\n",
       "      <th>2019-09-02 21:38:00</th>\n",
       "      <td>1430</td>\n",
       "      <td>fruit</td>\n",
       "    </tr>\n",
       "    <tr>\n",
       "      <th>2019-09-02 21:42:00</th>\n",
       "      <td>1430</td>\n",
       "      <td>dairy</td>\n",
       "    </tr>\n",
       "    <tr>\n",
       "      <th>2019-09-02 21:43:00</th>\n",
       "      <td>1430</td>\n",
       "      <td>fruit</td>\n",
       "    </tr>\n",
       "    <tr>\n",
       "      <th>2019-09-02 21:48:00</th>\n",
       "      <td>1430</td>\n",
       "      <td>dairy</td>\n",
       "    </tr>\n",
       "    <tr>\n",
       "      <th>2019-09-02 21:49:00</th>\n",
       "      <td>1430</td>\n",
       "      <td>fruit</td>\n",
       "    </tr>\n",
       "  </tbody>\n",
       "</table>\n",
       "</div>"
      ],
      "text/plain": [
       "                     customer_no location\n",
       "timestamp                                \n",
       "2019-09-02 21:38:00         1430    fruit\n",
       "2019-09-02 21:42:00         1430    dairy\n",
       "2019-09-02 21:43:00         1430    fruit\n",
       "2019-09-02 21:48:00         1430    dairy\n",
       "2019-09-02 21:49:00         1430    fruit"
      ]
     },
     "execution_count": 44,
     "metadata": {},
     "output_type": "execute_result"
    }
   ],
   "source": [
    "dfm.loc[dfm['customer_no']==1430]"
   ]
  },
  {
   "cell_type": "markdown",
   "id": "43d47618-542c-419f-8e01-4f035bb0630c",
   "metadata": {},
   "source": [
    "Incrementing the last timestamp in the given Dataframe by one min"
   ]
  },
  {
   "cell_type": "code",
   "execution_count": 45,
   "id": "3b9d3f7a-034c-4db4-8116-5b75fd6a5eac",
   "metadata": {},
   "outputs": [
    {
     "data": {
      "text/plain": [
       "Timestamp('2019-09-02 21:49:00')"
      ]
     },
     "execution_count": 45,
     "metadata": {},
     "output_type": "execute_result"
    }
   ],
   "source": [
    "#last timestamp\n",
    "dfm.loc[dfm['customer_no']==1430].index[-1]"
   ]
  },
  {
   "cell_type": "markdown",
   "id": "f7326e31-5962-4ce8-a11d-9c5aa787cdbf",
   "metadata": {},
   "source": [
    "What about tuesday?"
   ]
  },
  {
   "cell_type": "code",
   "execution_count": 46,
   "id": "a904429a-6b8a-4698-977b-ce2053893459",
   "metadata": {},
   "outputs": [
    {
     "data": {
      "text/html": [
       "<div>\n",
       "<style scoped>\n",
       "    .dataframe tbody tr th:only-of-type {\n",
       "        vertical-align: middle;\n",
       "    }\n",
       "\n",
       "    .dataframe tbody tr th {\n",
       "        vertical-align: top;\n",
       "    }\n",
       "\n",
       "    .dataframe thead th {\n",
       "        text-align: right;\n",
       "    }\n",
       "</style>\n",
       "<table border=\"1\" class=\"dataframe\">\n",
       "  <thead>\n",
       "    <tr style=\"text-align: right;\">\n",
       "      <th></th>\n",
       "      <th>timestamp</th>\n",
       "      <th>customer_no</th>\n",
       "      <th>location</th>\n",
       "    </tr>\n",
       "  </thead>\n",
       "  <tbody>\n",
       "    <tr>\n",
       "      <th>0</th>\n",
       "      <td>2019-09-03 07:02:00</td>\n",
       "      <td>1</td>\n",
       "      <td>fruit</td>\n",
       "    </tr>\n",
       "    <tr>\n",
       "      <th>1</th>\n",
       "      <td>2019-09-03 07:02:00</td>\n",
       "      <td>2</td>\n",
       "      <td>drinks</td>\n",
       "    </tr>\n",
       "    <tr>\n",
       "      <th>2</th>\n",
       "      <td>2019-09-03 07:03:00</td>\n",
       "      <td>3</td>\n",
       "      <td>dairy</td>\n",
       "    </tr>\n",
       "    <tr>\n",
       "      <th>3</th>\n",
       "      <td>2019-09-03 07:05:00</td>\n",
       "      <td>1</td>\n",
       "      <td>drinks</td>\n",
       "    </tr>\n",
       "    <tr>\n",
       "      <th>4</th>\n",
       "      <td>2019-09-03 07:06:00</td>\n",
       "      <td>4</td>\n",
       "      <td>dairy</td>\n",
       "    </tr>\n",
       "  </tbody>\n",
       "</table>\n",
       "</div>"
      ],
      "text/plain": [
       "             timestamp  customer_no location\n",
       "0  2019-09-03 07:02:00            1    fruit\n",
       "1  2019-09-03 07:02:00            2   drinks\n",
       "2  2019-09-03 07:03:00            3    dairy\n",
       "3  2019-09-03 07:05:00            1   drinks\n",
       "4  2019-09-03 07:06:00            4    dairy"
      ]
     },
     "execution_count": 46,
     "metadata": {},
     "output_type": "execute_result"
    }
   ],
   "source": [
    "dft.head(5)"
   ]
  },
  {
   "cell_type": "code",
   "execution_count": 47,
   "id": "d8d7c300-11de-4606-a7fa-11215850029a",
   "metadata": {},
   "outputs": [
    {
     "data": {
      "text/plain": [
       "1422"
      ]
     },
     "execution_count": 47,
     "metadata": {},
     "output_type": "execute_result"
    }
   ],
   "source": [
    "n_t = dft['customer_no'].nunique()\n",
    "n_t"
   ]
  },
  {
   "cell_type": "code",
   "execution_count": 48,
   "id": "862325b3-c10d-4cc4-bfcb-fe7afa73abb2",
   "metadata": {},
   "outputs": [
    {
     "data": {
      "text/plain": [
       "1447"
      ]
     },
     "execution_count": 48,
     "metadata": {},
     "output_type": "execute_result"
    }
   ],
   "source": [
    "n_m"
   ]
  },
  {
   "cell_type": "code",
   "execution_count": 49,
   "id": "811e0423-d748-4cd9-ad10-c76e0e541ac9",
   "metadata": {},
   "outputs": [
    {
     "data": {
      "text/html": [
       "<div>\n",
       "<style scoped>\n",
       "    .dataframe tbody tr th:only-of-type {\n",
       "        vertical-align: middle;\n",
       "    }\n",
       "\n",
       "    .dataframe tbody tr th {\n",
       "        vertical-align: top;\n",
       "    }\n",
       "\n",
       "    .dataframe thead th {\n",
       "        text-align: right;\n",
       "    }\n",
       "</style>\n",
       "<table border=\"1\" class=\"dataframe\">\n",
       "  <thead>\n",
       "    <tr style=\"text-align: right;\">\n",
       "      <th></th>\n",
       "      <th>timestamp</th>\n",
       "      <th>customer_no</th>\n",
       "    </tr>\n",
       "    <tr>\n",
       "      <th>location</th>\n",
       "      <th></th>\n",
       "      <th></th>\n",
       "    </tr>\n",
       "  </thead>\n",
       "  <tbody>\n",
       "    <tr>\n",
       "      <th>checkout</th>\n",
       "      <td>1420</td>\n",
       "      <td>1420</td>\n",
       "    </tr>\n",
       "    <tr>\n",
       "      <th>dairy</th>\n",
       "      <td>911</td>\n",
       "      <td>911</td>\n",
       "    </tr>\n",
       "    <tr>\n",
       "      <th>drinks</th>\n",
       "      <td>713</td>\n",
       "      <td>713</td>\n",
       "    </tr>\n",
       "    <tr>\n",
       "      <th>fruit</th>\n",
       "      <td>976</td>\n",
       "      <td>976</td>\n",
       "    </tr>\n",
       "    <tr>\n",
       "      <th>spices</th>\n",
       "      <td>694</td>\n",
       "      <td>694</td>\n",
       "    </tr>\n",
       "  </tbody>\n",
       "</table>\n",
       "</div>"
      ],
      "text/plain": [
       "          timestamp  customer_no\n",
       "location                        \n",
       "checkout       1420         1420\n",
       "dairy           911          911\n",
       "drinks          713          713\n",
       "fruit           976          976\n",
       "spices          694          694"
      ]
     },
     "execution_count": 49,
     "metadata": {},
     "output_type": "execute_result"
    }
   ],
   "source": [
    "dft.groupby('location').count()"
   ]
  },
  {
   "cell_type": "markdown",
   "id": "b10d503c-95cb-4ad4-8ade-11a356babb8f",
   "metadata": {},
   "source": [
    "so there should be 2 customers lost on tuesday"
   ]
  },
  {
   "cell_type": "code",
   "execution_count": 50,
   "id": "54e8b5b9-81f9-4022-a8be-f332bc223ff4",
   "metadata": {},
   "outputs": [
    {
     "data": {
      "text/plain": [
       "([1411, 1422], 2)"
      ]
     },
     "execution_count": 50,
     "metadata": {},
     "output_type": "execute_result"
    }
   ],
   "source": [
    "lost_customers(dft)"
   ]
  },
  {
   "cell_type": "code",
   "execution_count": 51,
   "id": "8bd2fdde-7b82-4f9a-b860-15d6f725ae5d",
   "metadata": {},
   "outputs": [
    {
     "data": {
      "text/html": [
       "<div>\n",
       "<style scoped>\n",
       "    .dataframe tbody tr th:only-of-type {\n",
       "        vertical-align: middle;\n",
       "    }\n",
       "\n",
       "    .dataframe tbody tr th {\n",
       "        vertical-align: top;\n",
       "    }\n",
       "\n",
       "    .dataframe thead th {\n",
       "        text-align: right;\n",
       "    }\n",
       "</style>\n",
       "<table border=\"1\" class=\"dataframe\">\n",
       "  <thead>\n",
       "    <tr style=\"text-align: right;\">\n",
       "      <th></th>\n",
       "      <th>timestamp</th>\n",
       "      <th>customer_no</th>\n",
       "      <th>location</th>\n",
       "    </tr>\n",
       "  </thead>\n",
       "  <tbody>\n",
       "    <tr>\n",
       "      <th>4708</th>\n",
       "      <td>2019-09-03 21:46:00</td>\n",
       "      <td>1422</td>\n",
       "      <td>spices</td>\n",
       "    </tr>\n",
       "    <tr>\n",
       "      <th>4710</th>\n",
       "      <td>2019-09-03 21:47:00</td>\n",
       "      <td>1422</td>\n",
       "      <td>dairy</td>\n",
       "    </tr>\n",
       "  </tbody>\n",
       "</table>\n",
       "</div>"
      ],
      "text/plain": [
       "                timestamp  customer_no location\n",
       "4708  2019-09-03 21:46:00         1422   spices\n",
       "4710  2019-09-03 21:47:00         1422    dairy"
      ]
     },
     "execution_count": 51,
     "metadata": {},
     "output_type": "execute_result"
    }
   ],
   "source": [
    "dft.loc[dft['customer_no']==1422]"
   ]
  },
  {
   "cell_type": "code",
   "execution_count": 52,
   "id": "27964e86-4af3-4286-975f-962c6f30aa3d",
   "metadata": {},
   "outputs": [
    {
     "data": {
      "text/html": [
       "<div>\n",
       "<style scoped>\n",
       "    .dataframe tbody tr th:only-of-type {\n",
       "        vertical-align: middle;\n",
       "    }\n",
       "\n",
       "    .dataframe tbody tr th {\n",
       "        vertical-align: top;\n",
       "    }\n",
       "\n",
       "    .dataframe thead th {\n",
       "        text-align: right;\n",
       "    }\n",
       "</style>\n",
       "<table border=\"1\" class=\"dataframe\">\n",
       "  <thead>\n",
       "    <tr style=\"text-align: right;\">\n",
       "      <th></th>\n",
       "      <th>timestamp</th>\n",
       "      <th>customer_no</th>\n",
       "      <th>location</th>\n",
       "    </tr>\n",
       "  </thead>\n",
       "  <tbody>\n",
       "    <tr>\n",
       "      <th>4704</th>\n",
       "      <td>2019-09-03 21:44:00</td>\n",
       "      <td>1412</td>\n",
       "      <td>drinks</td>\n",
       "    </tr>\n",
       "    <tr>\n",
       "      <th>4705</th>\n",
       "      <td>2019-09-03 21:46:00</td>\n",
       "      <td>1403</td>\n",
       "      <td>checkout</td>\n",
       "    </tr>\n",
       "    <tr>\n",
       "      <th>4706</th>\n",
       "      <td>2019-09-03 21:46:00</td>\n",
       "      <td>1420</td>\n",
       "      <td>checkout</td>\n",
       "    </tr>\n",
       "    <tr>\n",
       "      <th>4707</th>\n",
       "      <td>2019-09-03 21:46:00</td>\n",
       "      <td>1421</td>\n",
       "      <td>fruit</td>\n",
       "    </tr>\n",
       "    <tr>\n",
       "      <th>4708</th>\n",
       "      <td>2019-09-03 21:46:00</td>\n",
       "      <td>1422</td>\n",
       "      <td>spices</td>\n",
       "    </tr>\n",
       "    <tr>\n",
       "      <th>4709</th>\n",
       "      <td>2019-09-03 21:47:00</td>\n",
       "      <td>1421</td>\n",
       "      <td>drinks</td>\n",
       "    </tr>\n",
       "    <tr>\n",
       "      <th>4710</th>\n",
       "      <td>2019-09-03 21:47:00</td>\n",
       "      <td>1422</td>\n",
       "      <td>dairy</td>\n",
       "    </tr>\n",
       "    <tr>\n",
       "      <th>4711</th>\n",
       "      <td>2019-09-03 21:48:00</td>\n",
       "      <td>1421</td>\n",
       "      <td>checkout</td>\n",
       "    </tr>\n",
       "    <tr>\n",
       "      <th>4712</th>\n",
       "      <td>2019-09-03 21:49:00</td>\n",
       "      <td>1412</td>\n",
       "      <td>checkout</td>\n",
       "    </tr>\n",
       "    <tr>\n",
       "      <th>4713</th>\n",
       "      <td>2019-09-03 21:50:00</td>\n",
       "      <td>1411</td>\n",
       "      <td>dairy</td>\n",
       "    </tr>\n",
       "  </tbody>\n",
       "</table>\n",
       "</div>"
      ],
      "text/plain": [
       "                timestamp  customer_no  location\n",
       "4704  2019-09-03 21:44:00         1412    drinks\n",
       "4705  2019-09-03 21:46:00         1403  checkout\n",
       "4706  2019-09-03 21:46:00         1420  checkout\n",
       "4707  2019-09-03 21:46:00         1421     fruit\n",
       "4708  2019-09-03 21:46:00         1422    spices\n",
       "4709  2019-09-03 21:47:00         1421    drinks\n",
       "4710  2019-09-03 21:47:00         1422     dairy\n",
       "4711  2019-09-03 21:48:00         1421  checkout\n",
       "4712  2019-09-03 21:49:00         1412  checkout\n",
       "4713  2019-09-03 21:50:00         1411     dairy"
      ]
     },
     "execution_count": 52,
     "metadata": {},
     "output_type": "execute_result"
    }
   ],
   "source": [
    "dft.tail(10)"
   ]
  },
  {
   "cell_type": "markdown",
   "id": "418622b6-72cc-49e7-bfe3-e2022853e147",
   "metadata": {},
   "source": [
    "Distribution of the first location:"
   ]
  },
  {
   "cell_type": "code",
   "execution_count": 53,
   "id": "a33ca53c-f271-410a-b190-a29b1e0179c4",
   "metadata": {},
   "outputs": [
    {
     "data": {
      "text/plain": [
       "customer_no\n",
       "1        dairy\n",
       "2        dairy\n",
       "3        dairy\n",
       "4        dairy\n",
       "5       spices\n",
       "         ...  \n",
       "1443     fruit\n",
       "1444    spices\n",
       "1445     dairy\n",
       "1446     dairy\n",
       "1447     fruit\n",
       "Name: location, Length: 1447, dtype: object"
      ]
     },
     "execution_count": 53,
     "metadata": {},
     "output_type": "execute_result"
    }
   ],
   "source": [
    "dfm.groupby('customer_no')['location'].first()"
   ]
  },
  {
   "cell_type": "code",
   "execution_count": 54,
   "id": "1409a14d-022c-4576-8555-11fb3516b45b",
   "metadata": {},
   "outputs": [
    {
     "data": {
      "text/plain": [
       "customer_no\n",
       "1        dairy\n",
       "2        dairy\n",
       "3        dairy\n",
       "4        dairy\n",
       "5       spices\n",
       "         ...  \n",
       "1443     fruit\n",
       "1444    spices\n",
       "1445     dairy\n",
       "1446     dairy\n",
       "1447     fruit\n",
       "Name: location, Length: 1447, dtype: object"
      ]
     },
     "execution_count": 54,
     "metadata": {},
     "output_type": "execute_result"
    }
   ],
   "source": [
    "dfm_1loc = dfm.groupby('customer_no')['location'].first()\n",
    "dfm_1loc_n = dfm_1loc.value_counts()\n",
    "dfm_1loc"
   ]
  },
  {
   "cell_type": "code",
   "execution_count": 55,
   "id": "d58c8aa5-b1e4-4015-bd68-c458cbcda1d1",
   "metadata": {},
   "outputs": [
    {
     "data": {
      "text/plain": [
       "fruit     520\n",
       "dairy     412\n",
       "spices    283\n",
       "drinks    232\n",
       "Name: location, dtype: int64"
      ]
     },
     "execution_count": 55,
     "metadata": {},
     "output_type": "execute_result"
    }
   ],
   "source": [
    "dfm_1loc_n"
   ]
  },
  {
   "cell_type": "code",
   "execution_count": 56,
   "id": "09fe55c5-8061-46c2-89c7-8372c9712be8",
   "metadata": {
    "tags": []
   },
   "outputs": [
    {
     "data": {
      "text/plain": [
       "1447"
      ]
     },
     "execution_count": 56,
     "metadata": {},
     "output_type": "execute_result"
    }
   ],
   "source": [
    "n_m = dfm['customer_no'].nunique()\n",
    "n_m"
   ]
  },
  {
   "cell_type": "code",
   "execution_count": 57,
   "id": "99ece9f9-531a-400e-8e5b-c6328234c3ac",
   "metadata": {},
   "outputs": [
    {
     "data": {
      "text/plain": [
       "Index(['fruit', 'dairy', 'spices', 'drinks'], dtype='object')"
      ]
     },
     "execution_count": 57,
     "metadata": {},
     "output_type": "execute_result"
    }
   ],
   "source": [
    "dfm_1loc_n.index"
   ]
  },
  {
   "cell_type": "code",
   "execution_count": 58,
   "id": "15689061-96ba-4189-ab0c-b25918c9a001",
   "metadata": {},
   "outputs": [
    {
     "data": {
      "text/plain": [
       "([<matplotlib.patches.Wedge at 0x1a9f35fa880>,\n",
       "  <matplotlib.patches.Wedge at 0x1a9f3604340>,\n",
       "  <matplotlib.patches.Wedge at 0x1a9f3604640>,\n",
       "  <matplotlib.patches.Wedge at 0x1a9f3604fa0>],\n",
       " [Text(0.47034430518989734, 0.9943722816809774, 'fruit'),\n",
       "  Text(-1.0999351869533631, -0.01194087525561968, 'dairy'),\n",
       "  Text(-0.05609881816999984, -1.0985685789243789, 'spices'),\n",
       "  Text(0.9633845600996074, -0.5309333191293292, 'drinks')],\n",
       " [Text(0.2565514391944894, 0.5423848809168966, '35.9%'),\n",
       "  Text(-0.599964647429107, -0.0065132046848834614, '28.5%'),\n",
       "  Text(-0.030599355365454457, -0.599219224867843, '19.6%'),\n",
       "  Text(0.5254824873270585, -0.2895999922523613, '16.0%')])"
      ]
     },
     "execution_count": 58,
     "metadata": {},
     "output_type": "execute_result"
    },
    {
     "data": {
      "image/png": "[encoded data removed]",
      "text/plain": [
       "<Figure size 432x288 with 1 Axes>"
      ]
     },
     "metadata": {},
     "output_type": "display_data"
    }
   ],
   "source": [
    "plt.pie(dfm_1loc_n, labels=dfm_1loc_n.index ,autopct='%1.1f%%')"
   ]
  },
  {
   "cell_type": "markdown",
   "id": "9fd4e506-3d21-42ce-acc1-207b40299cb8",
   "metadata": {},
   "source": [
    "Customers who went first to the fruits:"
   ]
  },
  {
   "cell_type": "code",
   "execution_count": 59,
   "id": "2ca0a6f9-dfbb-4c55-9320-3d1f29eb8664",
   "metadata": {},
   "outputs": [
    {
     "data": {
      "text/plain": [
       "customer_no\n",
       "1        dairy\n",
       "2        dairy\n",
       "3        dairy\n",
       "4        dairy\n",
       "5       spices\n",
       "         ...  \n",
       "1443     fruit\n",
       "1444    spices\n",
       "1445     dairy\n",
       "1446     dairy\n",
       "1447     fruit\n",
       "Name: location, Length: 1447, dtype: object"
      ]
     },
     "execution_count": 59,
     "metadata": {},
     "output_type": "execute_result"
    }
   ],
   "source": [
    "dfm_1loc = dfm.groupby('customer_no')['location'].first()\n",
    "dfm_1loc"
   ]
  },
  {
   "cell_type": "code",
   "execution_count": 60,
   "id": "63cc55e0-7986-41d8-89bb-eccf76c1cd58",
   "metadata": {},
   "outputs": [
    {
     "data": {
      "text/plain": [
       "customer_no\n",
       "1       False\n",
       "2       False\n",
       "3       False\n",
       "4       False\n",
       "5       False\n",
       "        ...  \n",
       "1443    False\n",
       "1444    False\n",
       "1445    False\n",
       "1446    False\n",
       "1447    False\n",
       "Name: location, Length: 1447, dtype: bool"
      ]
     },
     "execution_count": 60,
     "metadata": {},
     "output_type": "execute_result"
    }
   ],
   "source": [
    "dfm_1loc=='fruits'"
   ]
  },
  {
   "cell_type": "markdown",
   "id": "6ac96aba-6276-460e-8c37-9ae01374b571",
   "metadata": {},
   "source": [
    "#### Working with the data of all days"
   ]
  },
  {
   "cell_type": "markdown",
   "id": "59ca38fe-92e6-45a1-8f26-802845a1f705",
   "metadata": {},
   "source": [
    "Number of customers per day:"
   ]
  },
  {
   "cell_type": "markdown",
   "id": "ffff741f-54e6-4979-9df0-776be09f95ad",
   "metadata": {},
   "source": [
    "Index to Datetimeindex"
   ]
  },
  {
   "cell_type": "code",
   "execution_count": 61,
   "id": "f72e202e-108b-4cbb-a91d-68ca5c9384f5",
   "metadata": {},
   "outputs": [],
   "source": [
    "dfm = pd.read_csv('../data/monday.csv',delimiter=';')\n",
    "dft = pd.read_csv('../data/tuesday.csv',delimiter=';')\n",
    "dfw = pd.read_csv('../data/wednesday.csv',delimiter=';')\n",
    "dfth = pd.read_csv('../data/thursday.csv',delimiter=';')\n",
    "dff = pd.read_csv('../data/friday.csv',delimiter=';')"
   ]
  },
  {
   "cell_type": "code",
   "execution_count": 62,
   "id": "d45cd097-9b15-49b3-a134-ded5e6718d75",
   "metadata": {},
   "outputs": [],
   "source": [
    "dfm.set_index('timestamp',inplace=True)\n",
    "dfm.index=pd.to_datetime(dfm.index)"
   ]
  },
  {
   "cell_type": "code",
   "execution_count": 63,
   "id": "29ad64c2-dc1b-4ee2-8792-a83f68c21231",
   "metadata": {},
   "outputs": [],
   "source": [
    "dft.set_index('timestamp',inplace=True)\n",
    "dft.index=pd.to_datetime(dft.index)\n",
    "\n",
    "dfw.set_index('timestamp',inplace=True)\n",
    "dfw.index=pd.to_datetime(dfw.index)\n",
    "\n",
    "dfth.set_index('timestamp',inplace=True)\n",
    "dfth.index=pd.to_datetime(dfth.index)\n",
    "\n",
    "dff.set_index('timestamp',inplace=True)\n",
    "dff.index=pd.to_datetime(dff.index)"
   ]
  },
  {
   "cell_type": "code",
   "execution_count": 64,
   "id": "cace2661-61c6-4907-a08b-ba2ea1b85b44",
   "metadata": {},
   "outputs": [
    {
     "data": {
      "text/plain": [
       "[1447, 1422, 1531, 1535, 1510]"
      ]
     },
     "execution_count": 64,
     "metadata": {},
     "output_type": "execute_result"
    }
   ],
   "source": [
    "n_m = dfm['customer_no'].nunique()\n",
    "n_t = dft['customer_no'].nunique()\n",
    "n_w = dfw['customer_no'].nunique()\n",
    "n_th = dfth['customer_no'].nunique()\n",
    "n_f = dff['customer_no'].nunique()\n",
    "n_days = [n_m, n_t, n_w, n_th, n_f]\n",
    "n_days"
   ]
  },
  {
   "cell_type": "code",
   "execution_count": 65,
   "id": "d91c275c-a1e7-4874-b089-90801e2e673b",
   "metadata": {},
   "outputs": [],
   "source": [
    "df_list = [dfm, dft, dfw, dfth, dff]"
   ]
  },
  {
   "cell_type": "markdown",
   "id": "357157a2-2427-4561-b0c7-9127b5c1af9e",
   "metadata": {},
   "source": [
    "Add checkout data for the lost customers using two funtions"
   ]
  },
  {
   "cell_type": "code",
   "execution_count": 66,
   "id": "6353dfee-51fd-4452-8a73-4a96c49c479c",
   "metadata": {},
   "outputs": [],
   "source": [
    "def lost_customers(df):\n",
    "    lost_customers=[]\n",
    "    for i in range(len(df.groupby('customer_no')['location'].last())):     \n",
    "        if df.groupby('customer_no')['location'].last()[i+1] != 'checkout':\n",
    "                   lost_customers.append(i+1) \n",
    "    n_lost_customers = len(lost_customers)\n",
    "    return lost_customers, n_lost_customers"
   ]
  },
  {
   "cell_type": "code",
   "execution_count": 67,
   "id": "4c653a8c-5e6b-421a-be98-650ffc1f7da1",
   "metadata": {},
   "outputs": [
    {
     "data": {
      "text/plain": [
       "([1494, 1496, 1500, 1503, 1505, 1506, 1509, 1510], 8)"
      ]
     },
     "execution_count": 67,
     "metadata": {},
     "output_type": "execute_result"
    }
   ],
   "source": [
    "lost_customers(dff)"
   ]
  },
  {
   "cell_type": "code",
   "execution_count": 68,
   "id": "ed5a728c-4d3f-46b9-9f3d-a2363ef7534a",
   "metadata": {
    "tags": []
   },
   "outputs": [],
   "source": [
    "def checkout_lc(df) :\n",
    "    \"\"\"\n",
    "    this function adds a checkout row for each lost customer to the dataframe\n",
    "    the selected checkout is the last one registered in the given dataframe +1 min\n",
    "    \"\"\"\n",
    "    lost_customers_list, n_lost_customers = lost_customers(df)\n",
    "    d = {'customer_no': lost_customers_list, 'location': ['checkout']*n_lost_customers}\n",
    "    checkout_dt = df.index[-1] + timedelta(minutes=1)\n",
    "    df_lost_customers = pd.DataFrame(data=d, index=[checkout_dt]*n_lost_customers)\n",
    "    df_wlc = df.append(df_lost_customers)\n",
    "    return df_wlc"
   ]
  },
  {
   "cell_type": "markdown",
   "id": "0ae25090-5970-4ec6-bad8-387cd6bd8f6d",
   "metadata": {},
   "source": [
    "Check if there are still lost costumers:"
   ]
  },
  {
   "cell_type": "code",
   "execution_count": 69,
   "id": "bc369589-d3e4-4861-a299-8513534a39e6",
   "metadata": {},
   "outputs": [],
   "source": [
    "dfm_lc = checkout_lc(dfm)\n",
    "dft_lc = checkout_lc(dft)\n",
    "dfw_lc = checkout_lc(dfw)\n",
    "dfth_lc = checkout_lc(dfth)\n",
    "dff_lc = checkout_lc(dff)"
   ]
  },
  {
   "cell_type": "code",
   "execution_count": 70,
   "id": "db453322-7dba-42af-bb94-7957bb01796a",
   "metadata": {},
   "outputs": [
    {
     "data": {
      "text/html": [
       "<div>\n",
       "<style scoped>\n",
       "    .dataframe tbody tr th:only-of-type {\n",
       "        vertical-align: middle;\n",
       "    }\n",
       "\n",
       "    .dataframe tbody tr th {\n",
       "        vertical-align: top;\n",
       "    }\n",
       "\n",
       "    .dataframe thead th {\n",
       "        text-align: right;\n",
       "    }\n",
       "</style>\n",
       "<table border=\"1\" class=\"dataframe\">\n",
       "  <thead>\n",
       "    <tr style=\"text-align: right;\">\n",
       "      <th></th>\n",
       "      <th>customer_no</th>\n",
       "      <th>location</th>\n",
       "    </tr>\n",
       "  </thead>\n",
       "  <tbody>\n",
       "    <tr>\n",
       "      <th>2019-09-06 07:00:00</th>\n",
       "      <td>1</td>\n",
       "      <td>dairy</td>\n",
       "    </tr>\n",
       "    <tr>\n",
       "      <th>2019-09-06 07:00:00</th>\n",
       "      <td>2</td>\n",
       "      <td>drinks</td>\n",
       "    </tr>\n",
       "    <tr>\n",
       "      <th>2019-09-06 07:00:00</th>\n",
       "      <td>3</td>\n",
       "      <td>fruit</td>\n",
       "    </tr>\n",
       "    <tr>\n",
       "      <th>2019-09-06 07:01:00</th>\n",
       "      <td>2</td>\n",
       "      <td>checkout</td>\n",
       "    </tr>\n",
       "    <tr>\n",
       "      <th>2019-09-06 07:01:00</th>\n",
       "      <td>4</td>\n",
       "      <td>drinks</td>\n",
       "    </tr>\n",
       "    <tr>\n",
       "      <th>...</th>\n",
       "      <td>...</td>\n",
       "      <td>...</td>\n",
       "    </tr>\n",
       "    <tr>\n",
       "      <th>2019-09-06 21:51:00</th>\n",
       "      <td>1503</td>\n",
       "      <td>checkout</td>\n",
       "    </tr>\n",
       "    <tr>\n",
       "      <th>2019-09-06 21:51:00</th>\n",
       "      <td>1505</td>\n",
       "      <td>checkout</td>\n",
       "    </tr>\n",
       "    <tr>\n",
       "      <th>2019-09-06 21:51:00</th>\n",
       "      <td>1506</td>\n",
       "      <td>checkout</td>\n",
       "    </tr>\n",
       "    <tr>\n",
       "      <th>2019-09-06 21:51:00</th>\n",
       "      <td>1509</td>\n",
       "      <td>checkout</td>\n",
       "    </tr>\n",
       "    <tr>\n",
       "      <th>2019-09-06 21:51:00</th>\n",
       "      <td>1510</td>\n",
       "      <td>checkout</td>\n",
       "    </tr>\n",
       "  </tbody>\n",
       "</table>\n",
       "<p>5133 rows × 2 columns</p>\n",
       "</div>"
      ],
      "text/plain": [
       "                     customer_no  location\n",
       "2019-09-06 07:00:00            1     dairy\n",
       "2019-09-06 07:00:00            2    drinks\n",
       "2019-09-06 07:00:00            3     fruit\n",
       "2019-09-06 07:01:00            2  checkout\n",
       "2019-09-06 07:01:00            4    drinks\n",
       "...                          ...       ...\n",
       "2019-09-06 21:51:00         1503  checkout\n",
       "2019-09-06 21:51:00         1505  checkout\n",
       "2019-09-06 21:51:00         1506  checkout\n",
       "2019-09-06 21:51:00         1509  checkout\n",
       "2019-09-06 21:51:00         1510  checkout\n",
       "\n",
       "[5133 rows x 2 columns]"
      ]
     },
     "execution_count": 70,
     "metadata": {},
     "output_type": "execute_result"
    }
   ],
   "source": [
    "dff_lc"
   ]
  },
  {
   "cell_type": "code",
   "execution_count": 71,
   "id": "c41f2da6-6d5b-4e7f-9192-902cf43e4bfa",
   "metadata": {},
   "outputs": [
    {
     "data": {
      "text/plain": [
       "1510"
      ]
     },
     "execution_count": 71,
     "metadata": {},
     "output_type": "execute_result"
    }
   ],
   "source": [
    "dff_lc.groupby('location').count().loc['checkout'][0]"
   ]
  },
  {
   "cell_type": "markdown",
   "id": "daba6fb9-6462-47a8-a303-2e5d967dc619",
   "metadata": {},
   "source": [
    "All 1510 customers were sent home!"
   ]
  },
  {
   "cell_type": "code",
   "execution_count": 72,
   "id": "2580beb6-86ae-43b8-9cbe-e53ceffedfd2",
   "metadata": {
    "tags": []
   },
   "outputs": [
    {
     "data": {
      "text/plain": [
       "Timestamp('2019-09-02 21:51:00')"
      ]
     },
     "execution_count": 72,
     "metadata": {},
     "output_type": "execute_result"
    }
   ],
   "source": [
    "dfm_lc.index[-1]"
   ]
  },
  {
   "cell_type": "markdown",
   "id": "24c752dd-234f-48e9-b56c-a3be34cf1890",
   "metadata": {},
   "source": [
    "Add 100000 x day of the week [0,5] = [Monday, Friday]"
   ]
  },
  {
   "cell_type": "code",
   "execution_count": 73,
   "id": "bc6948c4-d3e1-4e04-9823-be49601e2bd1",
   "metadata": {},
   "outputs": [],
   "source": [
    "dfm_lc['customer_no'] = dfm_lc['customer_no']+100000\n",
    "dft_lc['customer_no'] = dft_lc['customer_no']+200000\n",
    "dfw_lc['customer_no'] = dfw_lc['customer_no']+300000\n",
    "dfth_lc['customer_no'] = dfth_lc['customer_no']+400000\n",
    "dff_lc['customer_no'] = dff_lc['customer_no']+500000"
   ]
  },
  {
   "cell_type": "code",
   "execution_count": 74,
   "id": "8a7e25a3-be3c-4fe7-affb-c92a0e25abe7",
   "metadata": {},
   "outputs": [
    {
     "data": {
      "text/plain": [
       "2019-09-05 07:00:00    400001\n",
       "2019-09-05 07:01:00    400002\n",
       "2019-09-05 07:01:00    400003\n",
       "2019-09-05 07:01:00    400004\n",
       "2019-09-05 07:02:00    400001\n",
       "                        ...  \n",
       "2019-09-05 21:49:00    401534\n",
       "2019-09-05 21:49:00    401535\n",
       "2019-09-05 21:50:00    401527\n",
       "2019-09-05 21:50:00    401532\n",
       "2019-09-05 21:50:00    401533\n",
       "Name: customer_no, Length: 5107, dtype: int64"
      ]
     },
     "execution_count": 74,
     "metadata": {},
     "output_type": "execute_result"
    }
   ],
   "source": [
    "dfth_lc['customer_no']"
   ]
  },
  {
   "cell_type": "markdown",
   "id": "b12a266d-f446-4455-8c9e-a12637c4d4b0",
   "metadata": {},
   "source": [
    "Resample the daily tables first, there's no need to fill extra gaps"
   ]
  },
  {
   "cell_type": "code",
   "execution_count": 75,
   "id": "dbaeb612-16da-4572-ad34-0a195549aacf",
   "metadata": {},
   "outputs": [],
   "source": [
    "dfm_lc_res = dfm_lc.groupby(['customer_no']).resample('min').ffill()\n",
    "dft_lc_res = dft_lc.groupby(['customer_no']).resample('min').ffill()\n",
    "dfw_lc_res = dfw_lc.groupby(['customer_no']).resample('min').ffill()\n",
    "dfth_lc_res = dfth_lc.groupby(['customer_no']).resample('min').ffill()\n",
    "dff_lc_res = dff_lc.groupby(['customer_no']).resample('min').ffill()"
   ]
  },
  {
   "cell_type": "code",
   "execution_count": 76,
   "id": "6869aad0-c077-480f-bdcb-6d49229b5366",
   "metadata": {},
   "outputs": [
    {
     "data": {
      "text/html": [
       "<div>\n",
       "<style scoped>\n",
       "    .dataframe tbody tr th:only-of-type {\n",
       "        vertical-align: middle;\n",
       "    }\n",
       "\n",
       "    .dataframe tbody tr th {\n",
       "        vertical-align: top;\n",
       "    }\n",
       "\n",
       "    .dataframe thead th {\n",
       "        text-align: right;\n",
       "    }\n",
       "</style>\n",
       "<table border=\"1\" class=\"dataframe\">\n",
       "  <thead>\n",
       "    <tr style=\"text-align: right;\">\n",
       "      <th></th>\n",
       "      <th></th>\n",
       "      <th>customer_no</th>\n",
       "      <th>location</th>\n",
       "    </tr>\n",
       "    <tr>\n",
       "      <th>customer_no</th>\n",
       "      <th></th>\n",
       "      <th></th>\n",
       "      <th></th>\n",
       "    </tr>\n",
       "  </thead>\n",
       "  <tbody>\n",
       "    <tr>\n",
       "      <th rowspan=\"3\" valign=\"top\">100001</th>\n",
       "      <th>2019-09-02 07:03:00</th>\n",
       "      <td>100001</td>\n",
       "      <td>dairy</td>\n",
       "    </tr>\n",
       "    <tr>\n",
       "      <th>2019-09-02 07:04:00</th>\n",
       "      <td>100001</td>\n",
       "      <td>dairy</td>\n",
       "    </tr>\n",
       "    <tr>\n",
       "      <th>2019-09-02 07:05:00</th>\n",
       "      <td>100001</td>\n",
       "      <td>checkout</td>\n",
       "    </tr>\n",
       "    <tr>\n",
       "      <th rowspan=\"2\" valign=\"top\">100002</th>\n",
       "      <th>2019-09-02 07:03:00</th>\n",
       "      <td>100002</td>\n",
       "      <td>dairy</td>\n",
       "    </tr>\n",
       "    <tr>\n",
       "      <th>2019-09-02 07:04:00</th>\n",
       "      <td>100002</td>\n",
       "      <td>dairy</td>\n",
       "    </tr>\n",
       "    <tr>\n",
       "      <th>...</th>\n",
       "      <th>...</th>\n",
       "      <td>...</td>\n",
       "      <td>...</td>\n",
       "    </tr>\n",
       "    <tr>\n",
       "      <th>101445</th>\n",
       "      <th>2019-09-02 21:51:00</th>\n",
       "      <td>101445</td>\n",
       "      <td>checkout</td>\n",
       "    </tr>\n",
       "    <tr>\n",
       "      <th rowspan=\"2\" valign=\"top\">101446</th>\n",
       "      <th>2019-09-02 21:50:00</th>\n",
       "      <td>101446</td>\n",
       "      <td>dairy</td>\n",
       "    </tr>\n",
       "    <tr>\n",
       "      <th>2019-09-02 21:51:00</th>\n",
       "      <td>101446</td>\n",
       "      <td>checkout</td>\n",
       "    </tr>\n",
       "    <tr>\n",
       "      <th rowspan=\"2\" valign=\"top\">101447</th>\n",
       "      <th>2019-09-02 21:50:00</th>\n",
       "      <td>101447</td>\n",
       "      <td>fruit</td>\n",
       "    </tr>\n",
       "    <tr>\n",
       "      <th>2019-09-02 21:51:00</th>\n",
       "      <td>101447</td>\n",
       "      <td>checkout</td>\n",
       "    </tr>\n",
       "  </tbody>\n",
       "</table>\n",
       "<p>10789 rows × 2 columns</p>\n",
       "</div>"
      ],
      "text/plain": [
       "                                 customer_no  location\n",
       "customer_no                                           \n",
       "100001      2019-09-02 07:03:00       100001     dairy\n",
       "            2019-09-02 07:04:00       100001     dairy\n",
       "            2019-09-02 07:05:00       100001  checkout\n",
       "100002      2019-09-02 07:03:00       100002     dairy\n",
       "            2019-09-02 07:04:00       100002     dairy\n",
       "...                                      ...       ...\n",
       "101445      2019-09-02 21:51:00       101445  checkout\n",
       "101446      2019-09-02 21:50:00       101446     dairy\n",
       "            2019-09-02 21:51:00       101446  checkout\n",
       "101447      2019-09-02 21:50:00       101447     fruit\n",
       "            2019-09-02 21:51:00       101447  checkout\n",
       "\n",
       "[10789 rows x 2 columns]"
      ]
     },
     "execution_count": 76,
     "metadata": {},
     "output_type": "execute_result"
    }
   ],
   "source": [
    "dfm_lc_res"
   ]
  },
  {
   "cell_type": "markdown",
   "id": "5c6a8d4b-d363-4c5d-925b-736f77341526",
   "metadata": {},
   "source": [
    "Append resampled day tables with lost costumers:"
   ]
  },
  {
   "cell_type": "code",
   "execution_count": 77,
   "id": "1fc762e7-d9dc-435b-a2a9-085440533a59",
   "metadata": {},
   "outputs": [],
   "source": [
    "df = dfm_lc_res.append(dft_lc_res).append(dfw_lc_res).append(dfth_lc_res).append(dff_lc_res)"
   ]
  },
  {
   "cell_type": "code",
   "execution_count": 78,
   "id": "e0261c50-1262-436c-ab30-344b06295782",
   "metadata": {},
   "outputs": [
    {
     "data": {
      "text/html": [
       "<div>\n",
       "<style scoped>\n",
       "    .dataframe tbody tr th:only-of-type {\n",
       "        vertical-align: middle;\n",
       "    }\n",
       "\n",
       "    .dataframe tbody tr th {\n",
       "        vertical-align: top;\n",
       "    }\n",
       "\n",
       "    .dataframe thead th {\n",
       "        text-align: right;\n",
       "    }\n",
       "</style>\n",
       "<table border=\"1\" class=\"dataframe\">\n",
       "  <thead>\n",
       "    <tr style=\"text-align: right;\">\n",
       "      <th></th>\n",
       "      <th></th>\n",
       "      <th>customer_no</th>\n",
       "      <th>location</th>\n",
       "    </tr>\n",
       "    <tr>\n",
       "      <th>customer_no</th>\n",
       "      <th></th>\n",
       "      <th></th>\n",
       "      <th></th>\n",
       "    </tr>\n",
       "  </thead>\n",
       "  <tbody>\n",
       "    <tr>\n",
       "      <th rowspan=\"3\" valign=\"top\">100001</th>\n",
       "      <th>2019-09-02 07:03:00</th>\n",
       "      <td>100001</td>\n",
       "      <td>dairy</td>\n",
       "    </tr>\n",
       "    <tr>\n",
       "      <th>2019-09-02 07:04:00</th>\n",
       "      <td>100001</td>\n",
       "      <td>dairy</td>\n",
       "    </tr>\n",
       "    <tr>\n",
       "      <th>2019-09-02 07:05:00</th>\n",
       "      <td>100001</td>\n",
       "      <td>checkout</td>\n",
       "    </tr>\n",
       "    <tr>\n",
       "      <th rowspan=\"4\" valign=\"top\">100002</th>\n",
       "      <th>2019-09-02 07:03:00</th>\n",
       "      <td>100002</td>\n",
       "      <td>dairy</td>\n",
       "    </tr>\n",
       "    <tr>\n",
       "      <th>2019-09-02 07:04:00</th>\n",
       "      <td>100002</td>\n",
       "      <td>dairy</td>\n",
       "    </tr>\n",
       "    <tr>\n",
       "      <th>2019-09-02 07:05:00</th>\n",
       "      <td>100002</td>\n",
       "      <td>dairy</td>\n",
       "    </tr>\n",
       "    <tr>\n",
       "      <th>2019-09-02 07:06:00</th>\n",
       "      <td>100002</td>\n",
       "      <td>checkout</td>\n",
       "    </tr>\n",
       "  </tbody>\n",
       "</table>\n",
       "</div>"
      ],
      "text/plain": [
       "                                 customer_no  location\n",
       "customer_no                                           \n",
       "100001      2019-09-02 07:03:00       100001     dairy\n",
       "            2019-09-02 07:04:00       100001     dairy\n",
       "            2019-09-02 07:05:00       100001  checkout\n",
       "100002      2019-09-02 07:03:00       100002     dairy\n",
       "            2019-09-02 07:04:00       100002     dairy\n",
       "            2019-09-02 07:05:00       100002     dairy\n",
       "            2019-09-02 07:06:00       100002  checkout"
      ]
     },
     "execution_count": 78,
     "metadata": {},
     "output_type": "execute_result"
    }
   ],
   "source": [
    "df.head(7)"
   ]
  },
  {
   "cell_type": "markdown",
   "id": "047af47c-f854-49bb-9a71-2b40c21abc56",
   "metadata": {},
   "source": [
    "New feature: timedelta"
   ]
  },
  {
   "cell_type": "code",
   "execution_count": 79,
   "id": "2722041f-cba2-4bab-8e2d-892e63ca6366",
   "metadata": {},
   "outputs": [
    {
     "data": {
      "text/plain": [
       "datetime.timedelta(seconds=60)"
      ]
     },
     "execution_count": 79,
     "metadata": {},
     "output_type": "execute_result"
    }
   ],
   "source": [
    "b = timedelta(minutes=1)\n",
    "b"
   ]
  },
  {
   "cell_type": "markdown",
   "id": "0bd1b63c-12f9-4ff8-bc80-073acba54510",
   "metadata": {},
   "source": [
    "\n",
    "#### Transition Matrix"
   ]
  },
  {
   "cell_type": "code",
   "execution_count": 80,
   "id": "eaa4bbbf-713c-45bc-bba7-181fa49f3e01",
   "metadata": {},
   "outputs": [],
   "source": [
    "#shift -1\n",
    "#correct: checkout (t+1) is Nan\n",
    "#transition matrix with crosstab"
   ]
  },
  {
   "cell_type": "code",
   "execution_count": 81,
   "id": "c65339cc-b99d-4365-8052-1f2eebca18b2",
   "metadata": {},
   "outputs": [],
   "source": [
    "df.rename(columns={'location':'location_t'},inplace=True)"
   ]
  },
  {
   "cell_type": "code",
   "execution_count": 82,
   "id": "f821d27a-e285-46b8-b468-85976768a123",
   "metadata": {},
   "outputs": [],
   "source": [
    "df['location_t+1'] = df['location_t'].shift(-1)"
   ]
  },
  {
   "cell_type": "code",
   "execution_count": 83,
   "id": "4835388f-e8e3-4381-b3f1-b8b3acd7ed5a",
   "metadata": {},
   "outputs": [
    {
     "data": {
      "text/html": [
       "<div>\n",
       "<style scoped>\n",
       "    .dataframe tbody tr th:only-of-type {\n",
       "        vertical-align: middle;\n",
       "    }\n",
       "\n",
       "    .dataframe tbody tr th {\n",
       "        vertical-align: top;\n",
       "    }\n",
       "\n",
       "    .dataframe thead th {\n",
       "        text-align: right;\n",
       "    }\n",
       "</style>\n",
       "<table border=\"1\" class=\"dataframe\">\n",
       "  <thead>\n",
       "    <tr style=\"text-align: right;\">\n",
       "      <th></th>\n",
       "      <th></th>\n",
       "      <th>customer_no</th>\n",
       "      <th>location_t</th>\n",
       "      <th>location_t+1</th>\n",
       "    </tr>\n",
       "    <tr>\n",
       "      <th>customer_no</th>\n",
       "      <th></th>\n",
       "      <th></th>\n",
       "      <th></th>\n",
       "      <th></th>\n",
       "    </tr>\n",
       "  </thead>\n",
       "  <tbody>\n",
       "    <tr>\n",
       "      <th rowspan=\"3\" valign=\"top\">100001</th>\n",
       "      <th>2019-09-02 07:03:00</th>\n",
       "      <td>100001</td>\n",
       "      <td>dairy</td>\n",
       "      <td>dairy</td>\n",
       "    </tr>\n",
       "    <tr>\n",
       "      <th>2019-09-02 07:04:00</th>\n",
       "      <td>100001</td>\n",
       "      <td>dairy</td>\n",
       "      <td>checkout</td>\n",
       "    </tr>\n",
       "    <tr>\n",
       "      <th>2019-09-02 07:05:00</th>\n",
       "      <td>100001</td>\n",
       "      <td>checkout</td>\n",
       "      <td>dairy</td>\n",
       "    </tr>\n",
       "    <tr>\n",
       "      <th rowspan=\"4\" valign=\"top\">100002</th>\n",
       "      <th>2019-09-02 07:03:00</th>\n",
       "      <td>100002</td>\n",
       "      <td>dairy</td>\n",
       "      <td>dairy</td>\n",
       "    </tr>\n",
       "    <tr>\n",
       "      <th>2019-09-02 07:04:00</th>\n",
       "      <td>100002</td>\n",
       "      <td>dairy</td>\n",
       "      <td>dairy</td>\n",
       "    </tr>\n",
       "    <tr>\n",
       "      <th>2019-09-02 07:05:00</th>\n",
       "      <td>100002</td>\n",
       "      <td>dairy</td>\n",
       "      <td>checkout</td>\n",
       "    </tr>\n",
       "    <tr>\n",
       "      <th>2019-09-02 07:06:00</th>\n",
       "      <td>100002</td>\n",
       "      <td>checkout</td>\n",
       "      <td>dairy</td>\n",
       "    </tr>\n",
       "  </tbody>\n",
       "</table>\n",
       "</div>"
      ],
      "text/plain": [
       "                                 customer_no location_t location_t+1\n",
       "customer_no                                                         \n",
       "100001      2019-09-02 07:03:00       100001      dairy        dairy\n",
       "            2019-09-02 07:04:00       100001      dairy     checkout\n",
       "            2019-09-02 07:05:00       100001   checkout        dairy\n",
       "100002      2019-09-02 07:03:00       100002      dairy        dairy\n",
       "            2019-09-02 07:04:00       100002      dairy        dairy\n",
       "            2019-09-02 07:05:00       100002      dairy     checkout\n",
       "            2019-09-02 07:06:00       100002   checkout        dairy"
      ]
     },
     "execution_count": 83,
     "metadata": {},
     "output_type": "execute_result"
    }
   ],
   "source": [
    "df.head(7)"
   ]
  },
  {
   "cell_type": "code",
   "execution_count": 84,
   "id": "289e25c6-e66e-4d00-a966-eff09593ff39",
   "metadata": {},
   "outputs": [],
   "source": [
    "df.loc[df['location_t']=='checkout','location_t+1']='checkout'"
   ]
  },
  {
   "cell_type": "code",
   "execution_count": 85,
   "id": "afc964f9-9d2e-4f82-8064-f5a5c26effec",
   "metadata": {},
   "outputs": [
    {
     "data": {
      "text/html": [
       "<div>\n",
       "<style scoped>\n",
       "    .dataframe tbody tr th:only-of-type {\n",
       "        vertical-align: middle;\n",
       "    }\n",
       "\n",
       "    .dataframe tbody tr th {\n",
       "        vertical-align: top;\n",
       "    }\n",
       "\n",
       "    .dataframe thead th {\n",
       "        text-align: right;\n",
       "    }\n",
       "</style>\n",
       "<table border=\"1\" class=\"dataframe\">\n",
       "  <thead>\n",
       "    <tr style=\"text-align: right;\">\n",
       "      <th>location_t+1</th>\n",
       "      <th>checkout</th>\n",
       "      <th>dairy</th>\n",
       "      <th>drinks</th>\n",
       "      <th>fruit</th>\n",
       "      <th>spices</th>\n",
       "    </tr>\n",
       "    <tr>\n",
       "      <th>location_t</th>\n",
       "      <th></th>\n",
       "      <th></th>\n",
       "      <th></th>\n",
       "      <th></th>\n",
       "      <th></th>\n",
       "    </tr>\n",
       "  </thead>\n",
       "  <tbody>\n",
       "    <tr>\n",
       "      <th>checkout</th>\n",
       "      <td>1.000000</td>\n",
       "      <td>0.000000</td>\n",
       "      <td>0.000000</td>\n",
       "      <td>0.000000</td>\n",
       "      <td>0.000000</td>\n",
       "    </tr>\n",
       "    <tr>\n",
       "      <th>dairy</th>\n",
       "      <td>0.103373</td>\n",
       "      <td>0.736987</td>\n",
       "      <td>0.058516</td>\n",
       "      <td>0.049803</td>\n",
       "      <td>0.051321</td>\n",
       "    </tr>\n",
       "    <tr>\n",
       "      <th>drinks</th>\n",
       "      <td>0.215688</td>\n",
       "      <td>0.010898</td>\n",
       "      <td>0.598540</td>\n",
       "      <td>0.087900</td>\n",
       "      <td>0.086974</td>\n",
       "    </tr>\n",
       "    <tr>\n",
       "      <th>fruit</th>\n",
       "      <td>0.201478</td>\n",
       "      <td>0.095863</td>\n",
       "      <td>0.054813</td>\n",
       "      <td>0.597200</td>\n",
       "      <td>0.050645</td>\n",
       "    </tr>\n",
       "    <tr>\n",
       "      <th>spices</th>\n",
       "      <td>0.150589</td>\n",
       "      <td>0.193091</td>\n",
       "      <td>0.163005</td>\n",
       "      <td>0.090895</td>\n",
       "      <td>0.402420</td>\n",
       "    </tr>\n",
       "  </tbody>\n",
       "</table>\n",
       "</div>"
      ],
      "text/plain": [
       "location_t+1  checkout     dairy    drinks     fruit    spices\n",
       "location_t                                                    \n",
       "checkout      1.000000  0.000000  0.000000  0.000000  0.000000\n",
       "dairy         0.103373  0.736987  0.058516  0.049803  0.051321\n",
       "drinks        0.215688  0.010898  0.598540  0.087900  0.086974\n",
       "fruit         0.201478  0.095863  0.054813  0.597200  0.050645\n",
       "spices        0.150589  0.193091  0.163005  0.090895  0.402420"
      ]
     },
     "execution_count": 85,
     "metadata": {},
     "output_type": "execute_result"
    }
   ],
   "source": [
    "tm = pd.crosstab(df['location_t'], df['location_t+1'], normalize = 0)\n",
    "tm"
   ]
  },
  {
   "cell_type": "markdown",
   "id": "3a90fe81-4e13-4fff-9850-f9b524d97079",
   "metadata": {},
   "source": [
    "Probabilities as a heat map:"
   ]
  },
  {
   "cell_type": "code",
   "execution_count": 86,
   "id": "58297d4a-4c2e-43ad-a0bb-93b8aa52821e",
   "metadata": {},
   "outputs": [
    {
     "data": {
      "image/png": "[encoded data removed]",
      "text/plain": [
       "<Figure size 432x288 with 2 Axes>"
      ]
     },
     "metadata": {
      "needs_background": "light"
     },
     "output_type": "display_data"
    }
   ],
   "source": [
    "sns.heatmap(tm)\n",
    "plt.rcParams[\"figure.figsize\"] = (5,5)"
   ]
  },
  {
   "cell_type": "markdown",
   "id": "c1272673-3760-4100-ae7d-549314ae6e90",
   "metadata": {},
   "source": [
    "#### Writing a Customer Class"
   ]
  },
  {
   "cell_type": "code",
   "execution_count": 87,
   "id": "a33faa41-5f89-4c61-b08b-e2a4ab681672",
   "metadata": {},
   "outputs": [],
   "source": [
    "class Customer():\n",
    "    \"\"\"a single customer that moves through the supermarket\n",
    "    in a MCMC simmulation\n",
    "    \"\"\"\n",
    "    def __init__(self, name, state, transition_probs):\n",
    "        self.name = name\n",
    "        self.state = state\n",
    "        self.transition_probs = transition_probs        \n",
    "    \n",
    "    def __repr__(self):\n",
    "        return f'<The customer {self.name} is in the {self.state} location.>'\n",
    "    \n",
    "    def next_state(self):\n",
    "        \"\"\"\n",
    "        Propagates the customer to the next state\n",
    "        Returns nothing\n",
    "        \"\"\"\n",
    "        self.state = random.choices(self.transition_probs.index,\n",
    "                                   self.transition_probs.loc[self.state])[0]\n",
    "            \n",
    "    def is_active(self):\n",
    "        \"\"\"Returns True if the customer has not reached the checkout yet\n",
    "        \"\"\" \n",
    "        if self.state != 'checkout' :\n",
    "            return True \n",
    "        elif self.state == 'checkout' :\n",
    "            print(f'<The customer {self.name} left the supermarket.>')\n",
    "            return False"
   ]
  },
  {
   "cell_type": "markdown",
   "id": "96a99b6a-25f7-4fda-a625-8a92a98400de",
   "metadata": {},
   "source": [
    "Montecarlo Markov Chain for one customer"
   ]
  },
  {
   "cell_type": "code",
   "execution_count": 88,
   "id": "461a24e1-2a00-4b66-8bc7-7aa4b728fe16",
   "metadata": {},
   "outputs": [],
   "source": [
    "f = Faker(['es_MX', 'en_GB', 'it_IT', 'fi_FI'] )"
   ]
  },
  {
   "cell_type": "code",
   "execution_count": 89,
   "id": "e8ec8221-a004-4818-a675-9b1b41f9e8da",
   "metadata": {},
   "outputs": [
    {
     "data": {
      "text/plain": [
       "'Francesca'"
      ]
     },
     "execution_count": 89,
     "metadata": {},
     "output_type": "execute_result"
    }
   ],
   "source": [
    "f.first_name()"
   ]
  },
  {
   "cell_type": "code",
   "execution_count": 90,
   "id": "f3fab29a-4f55-4b6d-9e37-e3d00fdf6a38",
   "metadata": {},
   "outputs": [],
   "source": [
    "cust1 = Customer(f.first_name(),random.choice(tm.drop(columns='checkout').columns),tm)"
   ]
  },
  {
   "cell_type": "code",
   "execution_count": 91,
   "id": "15360339-ff34-48de-be9f-abb1beb43b33",
   "metadata": {},
   "outputs": [],
   "source": [
    "cust2 = Customer(f.first_name(),random.choice(tm.drop(columns='checkout').columns),tm)"
   ]
  },
  {
   "cell_type": "code",
   "execution_count": 92,
   "id": "f31f7c44-5ff7-4ed1-ad8e-2d023f5ccfb8",
   "metadata": {},
   "outputs": [
    {
     "name": "stdout",
     "output_type": "stream",
     "text": [
      "fruit\n",
      "spices\n",
      "dairy\n",
      "dairy\n",
      "drinks\n",
      "fruit\n",
      "fruit\n",
      "checkout\n",
      "checkout\n",
      "checkout\n",
      "<The customer Rufino left the supermarket.>\n"
     ]
    },
    {
     "data": {
      "text/plain": [
       "False"
      ]
     },
     "execution_count": 92,
     "metadata": {},
     "output_type": "execute_result"
    }
   ],
   "source": [
    "cust1 = Customer(f.first_name(),random.choice(tm.drop(columns='checkout').columns),tm)\n",
    "for i in range(10) :\n",
    "    cust1.next_state()\n",
    "    print(cust1.state)\n",
    "cust1.is_active()"
   ]
  },
  {
   "cell_type": "code",
   "execution_count": 93,
   "id": "bcc98ab1-900f-4387-8869-e42a8def50fe",
   "metadata": {},
   "outputs": [
    {
     "name": "stdout",
     "output_type": "stream",
     "text": [
      "1\n",
      "dairy\n",
      "<The customer Maura is in the dairy location.>\n",
      "<The customer Maura left the supermarket.>\n",
      "2\n",
      "checkout\n"
     ]
    }
   ],
   "source": [
    "cust2 = Customer(f.first_name(),random.choice(tm.drop(columns='checkout').columns),tm)\n",
    "i=1\n",
    "while cust2.is_active() == True :\n",
    "    print(i)\n",
    "    print(cust2.state)\n",
    "    print(cust2)\n",
    "    cust2.next_state()\n",
    "    i=i+1\n",
    "print(i)\n",
    "print(cust2.state)"
   ]
  },
  {
   "cell_type": "markdown",
   "id": "8983bdd8-f651-4c0c-82ed-ba5d00abcf7b",
   "metadata": {},
   "source": [
    "#### The Supermarket Class"
   ]
  },
  {
   "cell_type": "code",
   "execution_count": 94,
   "id": "19241166-b5da-4405-99f4-c6216dd077bd",
   "metadata": {},
   "outputs": [],
   "source": [
    "class Supermarket:\n",
    "    \"\"\"manages multiple Customers that are currently in the supermarket\"\"\"\n",
    "    \n",
    "    # initialise supermarket to be empty\n",
    "    def __init__(self):\n",
    "        self.customers = []\n",
    "        self.minutes = 0\n",
    "        self.last_id = 0\n",
    "    \n",
    "    def __repr__(self):        \n",
    "        return ''\n",
    "    \n",
    "    def get_time(self):\n",
    "        \"\"\"current time in HH:MM format,\n",
    "        \"\"\"\n",
    "        return None\n",
    "    \n",
    "    def all_next_state(self):\n",
    "        \"\"\"propagates all customers to the next state\"\"\"\n",
    "        for customer in self.customers:\n",
    "            customer.next_state()\n",
    "    \n",
    "    def print_customers(self):\n",
    "        \"\"\"print all customers with the current time and id in CSV format\n",
    "        \"\"\"\n",
    "        return None\n",
    "        \n",
    "    def add_customer(self, customer):\n",
    "        \"\"\"add a customer to the supermarket\n",
    "        \"\"\"\n",
    "        assert isinstance(customer, Customer), \"Only Customers into this Supermarket\"\n",
    "        self.customers.append(customer)\n",
    "        \n",
    "    def remove_customers(self):\n",
    "        \"\"\"removes every customer that is not active        \n",
    "        \"\"\"\n",
    "        new_customers_list=[]\n",
    "        for cust in self.customers:\n",
    "            if cust.is_active:\n",
    "                new_customers_list.append(cust)\n",
    "        self.customers = new_customers_list       \n",
    "        return None"
   ]
  },
  {
   "cell_type": "code",
   "execution_count": 97,
   "id": "3506acd7-2e01-42e4-8633-5edd60d8a086",
   "metadata": {},
   "outputs": [
    {
     "data": {
      "text/plain": [
       "[]"
      ]
     },
     "execution_count": 97,
     "metadata": {},
     "output_type": "execute_result"
    }
   ],
   "source": [
    "sofrito_market.customers"
   ]
  },
  {
   "cell_type": "code",
   "execution_count": 98,
   "id": "9da294ff-155c-48c4-9144-58fab88b3346",
   "metadata": {},
   "outputs": [],
   "source": [
    "#instantiate the supermarket:\n",
    "sofrito_market = Supermarket()"
   ]
  },
  {
   "cell_type": "code",
   "execution_count": 99,
   "id": "58386253-1936-4210-8e59-c1c98a171d9f",
   "metadata": {
    "tags": []
   },
   "outputs": [],
   "source": [
    "#find a distribution for the probability of a new cust on a given min"
   ]
  },
  {
   "cell_type": "code",
   "execution_count": 103,
   "id": "bb1ee50f-c4c2-4980-ba73-b1995e539497",
   "metadata": {
    "tags": []
   },
   "outputs": [
    {
     "name": "stdout",
     "output_type": "stream",
     "text": [
      "1900-01-01 07:01:00\n",
      "1900-01-01 07:02:00\n",
      "New customer entering Sofrito Market!\n",
      "<The customer Sergius is in the dairy location.>\n",
      "1900-01-01 07:03:00\n",
      "<The customer Sergius is in the dairy location.>\n",
      "1900-01-01 07:04:00\n",
      "<The customer Sergius is in the dairy location.>\n",
      "1900-01-01 07:05:00\n",
      "<The customer Sergius is in the drinks location.>\n",
      "1900-01-01 07:06:00\n",
      "<The customer Sergius is in the dairy location.>\n",
      "1900-01-01 07:07:00\n",
      "New customer entering Sofrito Market!\n",
      "<The customer Sergius is in the dairy location.>\n",
      "<The customer Katy is in the spices location.>\n",
      "1900-01-01 07:08:00\n",
      "<The customer Sergius is in the dairy location.>\n",
      "<The customer Katy is in the dairy location.>\n",
      "1900-01-01 07:09:00\n",
      "<The customer Sergius is in the dairy location.>\n",
      "<The customer Katy is in the dairy location.>\n",
      "1900-01-01 07:10:00\n",
      "<The customer Sergius is in the dairy location.>\n",
      "<The customer Katy is in the dairy location.>\n"
     ]
    }
   ],
   "source": [
    "#Markovian Process\n",
    "sofrito_market = Supermarket()\n",
    "timestep = pd.to_datetime('07:00',format='%H:%M')\n",
    "#customer_count\n",
    "df_supermarket = pd.DataFrame(columns=['timestep','cust_name','location'])\n",
    "\n",
    "for step in range(10): #(15*60=900)\n",
    "    timestep = timestep + timedelta(minutes=1)\n",
    "    print(timestep)\n",
    "    \n",
    "    #calculate if a new customer is entering the supermarket this minute\n",
    "    new_customer_coming = random.choices([True,False],[.5,.5])[0]    \n",
    "    if new_customer_coming == True:\n",
    "        print('New customer entering Sofrito Market!')\n",
    "        first_location = random.choices(dfm_1loc_n.index, dfm_1loc_n)[0]\n",
    "        cust1 = Customer(f.first_name(),first_location,tm)\n",
    "        sofrito_market.add_customer(cust1)        \n",
    "    \n",
    "    for cust in sofrito_market.customers:\n",
    "        print(cust)\n",
    "        #record rows for all customers in a dataframe\n",
    "        d = {'timestep':[timestep],'cust_name':[cust.name],'location':[cust.state]}\n",
    "        df = pd.DataFrame(data=d, columns=['timestep','cust_name','location'])\n",
    "        df_supermarket = df_supermarket.append(df)\n",
    "    \n",
    "    #move all customers to the next state\n",
    "    sofrito_market.all_next_state()\n",
    "        \n",
    "    #remove inactive customers\n",
    "    sofrito_market.remove_customers()\n",
    "    \n",
    "#after the loop:\n",
    "#remove customers of the supermarket after checkout\n",
    "#assign them a checkout record"
   ]
  },
  {
   "cell_type": "code",
   "execution_count": 104,
   "id": "277ede3d-783e-4749-894e-d8349b8e756e",
   "metadata": {},
   "outputs": [
    {
     "data": {
      "text/html": [
       "<div>\n",
       "<style scoped>\n",
       "    .dataframe tbody tr th:only-of-type {\n",
       "        vertical-align: middle;\n",
       "    }\n",
       "\n",
       "    .dataframe tbody tr th {\n",
       "        vertical-align: top;\n",
       "    }\n",
       "\n",
       "    .dataframe thead th {\n",
       "        text-align: right;\n",
       "    }\n",
       "</style>\n",
       "<table border=\"1\" class=\"dataframe\">\n",
       "  <thead>\n",
       "    <tr style=\"text-align: right;\">\n",
       "      <th></th>\n",
       "      <th>timestep</th>\n",
       "      <th>cust_name</th>\n",
       "      <th>location</th>\n",
       "    </tr>\n",
       "  </thead>\n",
       "  <tbody>\n",
       "    <tr>\n",
       "      <th>0</th>\n",
       "      <td>1900-01-01 07:02:00</td>\n",
       "      <td>Sergius</td>\n",
       "      <td>dairy</td>\n",
       "    </tr>\n",
       "    <tr>\n",
       "      <th>0</th>\n",
       "      <td>1900-01-01 07:03:00</td>\n",
       "      <td>Sergius</td>\n",
       "      <td>dairy</td>\n",
       "    </tr>\n",
       "    <tr>\n",
       "      <th>0</th>\n",
       "      <td>1900-01-01 07:04:00</td>\n",
       "      <td>Sergius</td>\n",
       "      <td>dairy</td>\n",
       "    </tr>\n",
       "    <tr>\n",
       "      <th>0</th>\n",
       "      <td>1900-01-01 07:05:00</td>\n",
       "      <td>Sergius</td>\n",
       "      <td>drinks</td>\n",
       "    </tr>\n",
       "    <tr>\n",
       "      <th>0</th>\n",
       "      <td>1900-01-01 07:06:00</td>\n",
       "      <td>Sergius</td>\n",
       "      <td>dairy</td>\n",
       "    </tr>\n",
       "    <tr>\n",
       "      <th>0</th>\n",
       "      <td>1900-01-01 07:07:00</td>\n",
       "      <td>Sergius</td>\n",
       "      <td>dairy</td>\n",
       "    </tr>\n",
       "    <tr>\n",
       "      <th>0</th>\n",
       "      <td>1900-01-01 07:07:00</td>\n",
       "      <td>Katy</td>\n",
       "      <td>spices</td>\n",
       "    </tr>\n",
       "    <tr>\n",
       "      <th>0</th>\n",
       "      <td>1900-01-01 07:08:00</td>\n",
       "      <td>Sergius</td>\n",
       "      <td>dairy</td>\n",
       "    </tr>\n",
       "    <tr>\n",
       "      <th>0</th>\n",
       "      <td>1900-01-01 07:08:00</td>\n",
       "      <td>Katy</td>\n",
       "      <td>dairy</td>\n",
       "    </tr>\n",
       "    <tr>\n",
       "      <th>0</th>\n",
       "      <td>1900-01-01 07:09:00</td>\n",
       "      <td>Sergius</td>\n",
       "      <td>dairy</td>\n",
       "    </tr>\n",
       "    <tr>\n",
       "      <th>0</th>\n",
       "      <td>1900-01-01 07:09:00</td>\n",
       "      <td>Katy</td>\n",
       "      <td>dairy</td>\n",
       "    </tr>\n",
       "    <tr>\n",
       "      <th>0</th>\n",
       "      <td>1900-01-01 07:10:00</td>\n",
       "      <td>Sergius</td>\n",
       "      <td>dairy</td>\n",
       "    </tr>\n",
       "    <tr>\n",
       "      <th>0</th>\n",
       "      <td>1900-01-01 07:10:00</td>\n",
       "      <td>Katy</td>\n",
       "      <td>dairy</td>\n",
       "    </tr>\n",
       "  </tbody>\n",
       "</table>\n",
       "</div>"
      ],
      "text/plain": [
       "             timestep cust_name location\n",
       "0 1900-01-01 07:02:00   Sergius    dairy\n",
       "0 1900-01-01 07:03:00   Sergius    dairy\n",
       "0 1900-01-01 07:04:00   Sergius    dairy\n",
       "0 1900-01-01 07:05:00   Sergius   drinks\n",
       "0 1900-01-01 07:06:00   Sergius    dairy\n",
       "0 1900-01-01 07:07:00   Sergius    dairy\n",
       "0 1900-01-01 07:07:00      Katy   spices\n",
       "0 1900-01-01 07:08:00   Sergius    dairy\n",
       "0 1900-01-01 07:08:00      Katy    dairy\n",
       "0 1900-01-01 07:09:00   Sergius    dairy\n",
       "0 1900-01-01 07:09:00      Katy    dairy\n",
       "0 1900-01-01 07:10:00   Sergius    dairy\n",
       "0 1900-01-01 07:10:00      Katy    dairy"
      ]
     },
     "execution_count": 104,
     "metadata": {},
     "output_type": "execute_result"
    }
   ],
   "source": [
    "df_supermarket"
   ]
  },
  {
   "cell_type": "code",
   "execution_count": 105,
   "id": "33268e58-349c-4e0f-a3fb-8056e9aa8107",
   "metadata": {},
   "outputs": [
    {
     "data": {
      "text/plain": [
       "[<The customer Sergius is in the dairy location.>,\n",
       " <The customer Katy is in the dairy location.>]"
      ]
     },
     "execution_count": 105,
     "metadata": {},
     "output_type": "execute_result"
    }
   ],
   "source": [
    "sofrito_market.customers"
   ]
  },
  {
   "cell_type": "code",
   "execution_count": 106,
   "id": "44dabd16-bf47-480e-824c-2e81853054d3",
   "metadata": {},
   "outputs": [],
   "source": [
    "sofrito_market.remove_customers()"
   ]
  },
  {
   "cell_type": "code",
   "execution_count": 401,
   "id": "ae7ff908-472b-4908-bd4e-d823d250b8bf",
   "metadata": {},
   "outputs": [
    {
     "data": {
      "text/plain": [
       "[<The customer Amador is in the checkout location.>,\n",
       " <The customer Bethan is in the checkout location.>,\n",
       " <The customer Licia is in the drinks location.>]"
      ]
     },
     "execution_count": 401,
     "metadata": {},
     "output_type": "execute_result"
    }
   ],
   "source": [
    "sofrito_market.customers"
   ]
  },
  {
   "cell_type": "code",
   "execution_count": null,
   "id": "ce04296c-8ee3-4e5b-aade-f67baae6df73",
   "metadata": {},
   "outputs": [],
   "source": []
  },
  {
   "cell_type": "code",
   "execution_count": 317,
   "id": "912ab2c0-d4ef-48ce-81d1-5f40b1949550",
   "metadata": {},
   "outputs": [],
   "source": [
    "cust1 = sofrito_market.customers[0]"
   ]
  },
  {
   "cell_type": "code",
   "execution_count": 318,
   "id": "80e66e09-2bfe-4418-9df8-4da2a4ad128e",
   "metadata": {},
   "outputs": [
    {
     "data": {
      "text/plain": [
       "<The customer Allan is in the fruit location.>"
      ]
     },
     "execution_count": 318,
     "metadata": {},
     "output_type": "execute_result"
    }
   ],
   "source": [
    "cust1"
   ]
  },
  {
   "cell_type": "code",
   "execution_count": 243,
   "id": "a402d497-e6e0-4d97-a86a-10c24ea1beea",
   "metadata": {},
   "outputs": [],
   "source": [
    "cust2 = Customer(f.first_name(),random.choice(tm.drop(columns='checkout').columns),tm)"
   ]
  },
  {
   "cell_type": "code",
   "execution_count": null,
   "id": "e8ed650b-4b7d-445f-bc3a-8e30c3861587",
   "metadata": {},
   "outputs": [],
   "source": [
    "#after the loop:\n",
    "#ask the supermarket for customers still active\n",
    "#assign them a checkout record"
   ]
  },
  {
   "cell_type": "code",
   "execution_count": null,
   "id": "08960873-6703-434e-b1e4-f487864fcbac",
   "metadata": {},
   "outputs": [],
   "source": [
    "#farther steps\n",
    "#first: code skeleton with simplications for the steps:"
   ]
  },
  {
   "cell_type": "code",
   "execution_count": 175,
   "id": "bde679d6-6fdb-4cbe-b92d-432a7b07c511",
   "metadata": {},
   "outputs": [
    {
     "data": {
      "text/plain": [
       "Timestamp('1900-01-01 07:00:00')"
      ]
     },
     "execution_count": 175,
     "metadata": {},
     "output_type": "execute_result"
    }
   ],
   "source": [
    "pd.to_datetime('07:00',format='%H:%M')"
   ]
  },
  {
   "cell_type": "code",
   "execution_count": 178,
   "id": "369c28f0-1e2e-4247-8cb4-e82e37d92d0c",
   "metadata": {},
   "outputs": [],
   "source": [
    "ts = pd.to_datetime('22:00', format='%H:%M')"
   ]
  },
  {
   "cell_type": "code",
   "execution_count": 182,
   "id": "39c45f53-5e57-4f74-98e5-e1033261d9a4",
   "metadata": {},
   "outputs": [
    {
     "data": {
      "text/plain": [
       "Timestamp('1900-01-01 22:04:00')"
      ]
     },
     "execution_count": 182,
     "metadata": {},
     "output_type": "execute_result"
    }
   ],
   "source": [
    "ts = ts + timedelta(minutes=1)\n",
    "ts"
   ]
  },
  {
   "cell_type": "code",
   "execution_count": 210,
   "id": "a1dc2993-008c-4bd3-abdc-54b6f94138df",
   "metadata": {},
   "outputs": [],
   "source": [
    "state = random.choices(dfm_1loc_n.index, dfm_1loc_n)"
   ]
  },
  {
   "cell_type": "code",
   "execution_count": 280,
   "id": "f40b3c6b-64ad-4da2-91f7-fcac0d3ff5ac",
   "metadata": {},
   "outputs": [
    {
     "data": {
      "text/plain": [
       "['dog0', 'dog1', 'dog2', 'dog3', 'dog4']"
      ]
     },
     "execution_count": 280,
     "metadata": {},
     "output_type": "execute_result"
    }
   ],
   "source": [
    "dogs=[]\n",
    "for i in range(5):\n",
    "    dogs.append(f'dog{i}')\n",
    "dogs "
   ]
  },
  {
   "cell_type": "code",
   "execution_count": 222,
   "id": "1bef3366-9539-4059-ac5a-7e5ccb861c00",
   "metadata": {
    "tags": []
   },
   "outputs": [],
   "source": [
    "sofrito_market = Supermarket()"
   ]
  },
  {
   "cell_type": "code",
   "execution_count": null,
   "id": "a0b8bc2f-faa0-4b23-866b-e95a1ede2780",
   "metadata": {},
   "outputs": [],
   "source": [
    "sofrito_market.add_customer(Customer(,tm))"
   ]
  },
  {
   "cell_type": "code",
   "execution_count": 346,
   "id": "ef3da44b-1cdc-48d6-95b8-109ce95febe3",
   "metadata": {},
   "outputs": [
    {
     "data": {
      "text/plain": [
       "Timestamp('1900-01-01 22:00:00')"
      ]
     },
     "execution_count": 346,
     "metadata": {},
     "output_type": "execute_result"
    }
   ],
   "source": [
    "timestep = pd.to_datetime('07:00',format='%H:%M')\n",
    "for step in range(900): #(15*60)\n",
    "    timestep = timestep + timedelta(minutes=1)\n",
    "timestep"
   ]
  },
  {
   "cell_type": "markdown",
   "id": "0ad6ed0d-9922-4b8c-be2a-5d75711ae9f6",
   "metadata": {},
   "source": [
    "Next steps:\n",
    "- Implementation on entry on a Poisson ditribution\n",
    "- Modelate 11h day \n",
    "- Compare synthetic day modelation with original data\n",
    "- Look for further applications"
   ]
  },
  {
   "cell_type": "code",
   "execution_count": null,
   "id": "483af569-fea4-4431-b7d2-bd65ecc1e77b",
   "metadata": {},
   "outputs": [],
   "source": []
  }
 ],
 "metadata": {
  "kernelspec": {
   "display_name": "Python 3 (ipykernel)",
   "language": "python",
   "name": "python3"
  },
  "language_info": {
   "codemirror_mode": {
    "name": "ipython",
    "version": 3
   },
   "file_extension": ".py",
   "mimetype": "text/x-python",
   "name": "python",
   "nbconvert_exporter": "python",
   "pygments_lexer": "ipython3",
   "version": "3.9.7"
  }
 },
 "nbformat": 4,
 "nbformat_minor": 5
}
